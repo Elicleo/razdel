{
 "cells": [
  {
   "cell_type": "markdown",
   "metadata": {},
   "source": [
    "# Работа со строковыми значениями"
   ]
  },
  {
   "cell_type": "markdown",
   "metadata": {},
   "source": [
    "__Автор задач: Блохин Н.В. (NVBlokhin@fa.ru)__\n",
    "\n",
    "Материалы:\n",
    "* Макрушин С.В. Лекция \"Работа со строковыми значениям\"\n",
    "* https://pyformat.info/\n",
    "* https://docs.python.org/3/library/re.html\n",
    "    * https://docs.python.org/3/library/re.html#flags\n",
    "    * https://docs.python.org/3/library/re.html#functions\n",
    "* https://pythonru.com/primery/primery-primeneniya-regulyarnyh-vyrazheniy-v-python\n",
    "* https://kanoki.org/2019/11/12/how-to-use-regex-in-pandas/\n",
    "* https://realpython.com/nltk-nlp-python/"
   ]
  },
  {
   "cell_type": "markdown",
   "metadata": {},
   "source": [
    "## Задачи для совместного разбора"
   ]
  },
  {
   "cell_type": "code",
   "execution_count": 13,
   "metadata": {},
   "outputs": [],
   "source": [
    "import pandas as pd"
   ]
  },
  {
   "cell_type": "markdown",
   "metadata": {},
   "source": [
    "1. Вывести на экран данные из словаря `obj` построчно в виде `k = v`, задав формат таким образом, чтобы знак равенства оказался на одной и той же позиции во всех строках. Строковые литералы обернуть в кавычки."
   ]
  },
  {
   "cell_type": "code",
   "execution_count": 15,
   "metadata": {},
   "outputs": [],
   "source": [
    "obj = {\n",
    "    \"home_page\": \"https://github.com/pypa/sampleproject\",\n",
    "    \"keywords\": \"sample setuptools development\",\n",
    "    \"license\": \"MIT\",\n",
    "}"
   ]
  },
  {
   "cell_type": "code",
   "execution_count": 82,
   "metadata": {},
   "outputs": [
    {
     "name": "stdout",
     "output_type": "stream",
     "text": [
      "\"home_page\" = \"https://github.com/pypa/sampleproject\"\n",
      "\" keywords\" = \"sample setuptools development\"\n",
      "\"  license\" = \"MIT\"\n"
     ]
    }
   ],
   "source": [
    "m = max(len(i) for i in obj)\n",
    "\n",
    "for k, v in obj.items():\n",
    "    print(f'\"{k: >{m}}\" = \"{v}\"')"
   ]
  },
  {
   "cell_type": "markdown",
   "metadata": {},
   "source": [
    "2. Написать регулярное выражение,которое позволит найти номера групп студентов."
   ]
  },
  {
   "cell_type": "code",
   "execution_count": 1,
   "metadata": {},
   "outputs": [],
   "source": [
    "import re"
   ]
  },
  {
   "cell_type": "code",
   "execution_count": 17,
   "metadata": {},
   "outputs": [
    {
     "data": {
      "text/plain": [
       "0    Евгения гр.ПМ19-1\n",
       "1         Илья пм 20-4\n",
       "2            Анна 20-3\n",
       "dtype: object"
      ]
     },
     "execution_count": 17,
     "metadata": {},
     "output_type": "execute_result"
    }
   ],
   "source": [
    "obj = pd.Series([\"Евгения гр.ПМ19-1\", \"Илья пм 20-4\", \"Анна 20-3\"])\n",
    "obj"
   ]
  },
  {
   "cell_type": "code",
   "execution_count": 18,
   "metadata": {},
   "outputs": [
    {
     "name": "stdout",
     "output_type": "stream",
     "text": [
      "19-1\n",
      "20-4\n",
      "20-3\n"
     ]
    }
   ],
   "source": [
    "for i in obj:\n",
    "    print(*re.findall('\\d{2}-\\d', i))"
   ]
  },
  {
   "cell_type": "markdown",
   "metadata": {},
   "source": [
    "3. Разбейте текст формулировки задачи 2 на слова."
   ]
  },
  {
   "cell_type": "code",
   "execution_count": 4,
   "metadata": {},
   "outputs": [
    {
     "data": {
      "text/plain": [
       "['Написать',\n",
       " 'регулярное',\n",
       " 'выражение',\n",
       " 'которое',\n",
       " 'позволит',\n",
       " 'найти',\n",
       " 'номера',\n",
       " 'групп',\n",
       " 'студентов']"
      ]
     },
     "execution_count": 4,
     "metadata": {},
     "output_type": "execute_result"
    }
   ],
   "source": [
    "text = 'Написать регулярное выражение,которое позволит найти номера групп студентов.'\n",
    "re.findall('\\w+', text)"
   ]
  },
  {
   "cell_type": "markdown",
   "metadata": {},
   "source": [
    "4."
   ]
  },
  {
   "cell_type": "code",
   "execution_count": 20,
   "metadata": {},
   "outputs": [
    {
     "data": {
      "text/plain": [
       "['вол', 'воз', 'вон', 'вол', 'воз', 'вон']"
      ]
     },
     "execution_count": 20,
     "metadata": {},
     "output_type": "execute_result"
    }
   ],
   "source": [
    "text = 'вол,воз,вон. вол воБ во8 воз вок вог во4 воХ во! воь вон'\n",
    "re.findall('во[лзн]', text)"
   ]
  },
  {
   "cell_type": "markdown",
   "metadata": {},
   "source": [
    "5."
   ]
  },
  {
   "cell_type": "code",
   "execution_count": 90,
   "metadata": {},
   "outputs": [
    {
     "data": {
      "text/plain": [
       "['147', '843', '10', '514', '99', '246', '572']"
      ]
     },
     "execution_count": 90,
     "metadata": {},
     "output_type": "execute_result"
    }
   ],
   "source": [
    "text = '147 кабинет 843 кабинет 010 кабинет 514 кабинет 99 кабинет 246 кабинет 572 кабинет'\n",
    "re.findall('[1-9]\\d{2}|[1-9]\\d', text)"
   ]
  },
  {
   "cell_type": "code",
   "execution_count": 96,
   "metadata": {},
   "outputs": [
    {
     "data": {
      "text/plain": [
       "[('147', '47'),\n",
       " ('843', '43'),\n",
       " ('10', '0'),\n",
       " ('514', '14'),\n",
       " ('99', '9'),\n",
       " ('246', '46'),\n",
       " ('572', '72')]"
      ]
     },
     "execution_count": 96,
     "metadata": {},
     "output_type": "execute_result"
    }
   ],
   "source": [
    "text = '147 кабинет 843 кабинет 010 кабинет 514 кабинет 99 кабинет 246 кабинет 572 кабинет'\n",
    "re.findall('([1-9]((?:\\d{2})|(?:\\d)))', text)"
   ]
  },
  {
   "cell_type": "code",
   "execution_count": 89,
   "metadata": {},
   "outputs": [
    {
     "data": {
      "text/plain": [
       "['147', '843', '10', '514', '99', '246', '572']"
      ]
     },
     "execution_count": 89,
     "metadata": {},
     "output_type": "execute_result"
    }
   ],
   "source": [
    "text = '147 кабинет 843 кабинет 010 кабинет 514 кабинет 99 кабинет 246 кабинет 572 кабинет'\n",
    "re.findall('[1-9]\\d+', text)"
   ]
  },
  {
   "cell_type": "markdown",
   "metadata": {},
   "source": [
    "## Лабораторная работа 6"
   ]
  },
  {
   "cell_type": "markdown",
   "metadata": {},
   "source": [
    "### Форматирование строк"
   ]
  },
  {
   "cell_type": "markdown",
   "metadata": {},
   "source": [
    "1\\. Загрузите данные из файла `recipes_sample.csv` (__ЛР2__) в виде `pd.DataFrame` `recipes` При помощи форматирования строк выведите информацию об id рецепта и времени выполнения 5 случайных рецептов в виде таблицы следующего вида:\n",
    "\n",
    "    \n",
    "    |      id      |  minutes  |\n",
    "    |--------------------------|\n",
    "    |    61178     |    65     |\n",
    "    |    202352    |    80     |\n",
    "    |    364322    |    150    |\n",
    "    |    26177     |    20     |\n",
    "    |    224785    |    35     |\n",
    "    \n",
    "Обратите внимание, что ширина столбцов заранее неизвестна и должна рассчитываться динамически, в зависимости от тех данных, которые были выбраны. "
   ]
  },
  {
   "cell_type": "code",
   "execution_count": 40,
   "metadata": {},
   "outputs": [],
   "source": [
    "import pandas as pd"
   ]
  },
  {
   "cell_type": "code",
   "execution_count": 41,
   "metadata": {},
   "outputs": [],
   "source": [
    "recipes = pd.read_csv('recipes_sample.csv')"
   ]
  },
  {
   "cell_type": "code",
   "execution_count": 23,
   "metadata": {},
   "outputs": [
    {
     "data": {
      "text/html": [
       "<div>\n",
       "<style scoped>\n",
       "    .dataframe tbody tr th:only-of-type {\n",
       "        vertical-align: middle;\n",
       "    }\n",
       "\n",
       "    .dataframe tbody tr th {\n",
       "        vertical-align: top;\n",
       "    }\n",
       "\n",
       "    .dataframe thead th {\n",
       "        text-align: right;\n",
       "    }\n",
       "</style>\n",
       "<table border=\"1\" class=\"dataframe\">\n",
       "  <thead>\n",
       "    <tr style=\"text-align: right;\">\n",
       "      <th></th>\n",
       "      <th>name</th>\n",
       "      <th>id</th>\n",
       "      <th>minutes</th>\n",
       "      <th>contributor_id</th>\n",
       "      <th>submitted</th>\n",
       "      <th>n_steps</th>\n",
       "      <th>description</th>\n",
       "      <th>n_ingredients</th>\n",
       "    </tr>\n",
       "  </thead>\n",
       "  <tbody>\n",
       "    <tr>\n",
       "      <th>9121</th>\n",
       "      <td>danish</td>\n",
       "      <td>28216</td>\n",
       "      <td>60</td>\n",
       "      <td>1891</td>\n",
       "      <td>2002-05-13</td>\n",
       "      <td>7.0</td>\n",
       "      <td>this is go good and easy to make . i top it wi...</td>\n",
       "      <td>5.0</td>\n",
       "    </tr>\n",
       "    <tr>\n",
       "      <th>26451</th>\n",
       "      <td>super fast chocolate oatmeal</td>\n",
       "      <td>240054</td>\n",
       "      <td>10</td>\n",
       "      <td>483668</td>\n",
       "      <td>2007-07-12</td>\n",
       "      <td>7.0</td>\n",
       "      <td>this is my tweeked version of a recipe on this...</td>\n",
       "      <td>5.0</td>\n",
       "    </tr>\n",
       "    <tr>\n",
       "      <th>8112</th>\n",
       "      <td>cream of roasted tomato soup</td>\n",
       "      <td>35864</td>\n",
       "      <td>45</td>\n",
       "      <td>22015</td>\n",
       "      <td>2002-08-02</td>\n",
       "      <td>NaN</td>\n",
       "      <td>not sure where it came from originally, but it...</td>\n",
       "      <td>13.0</td>\n",
       "    </tr>\n",
       "    <tr>\n",
       "      <th>7288</th>\n",
       "      <td>coconut custard squares</td>\n",
       "      <td>136862</td>\n",
       "      <td>50</td>\n",
       "      <td>130663</td>\n",
       "      <td>2005-09-11</td>\n",
       "      <td>8.0</td>\n",
       "      <td>haven't tried this recipe yet.</td>\n",
       "      <td>5.0</td>\n",
       "    </tr>\n",
       "    <tr>\n",
       "      <th>25838</th>\n",
       "      <td>steak in pizzaiola sauce</td>\n",
       "      <td>94655</td>\n",
       "      <td>20</td>\n",
       "      <td>115853</td>\n",
       "      <td>2004-06-29</td>\n",
       "      <td>9.0</td>\n",
       "      <td>my dh2b loved the chicken pizzaiola sub at sub...</td>\n",
       "      <td>8.0</td>\n",
       "    </tr>\n",
       "  </tbody>\n",
       "</table>\n",
       "</div>"
      ],
      "text/plain": [
       "                               name      id  minutes  contributor_id  \\\n",
       "9121                         danish   28216       60            1891   \n",
       "26451  super fast chocolate oatmeal  240054       10          483668   \n",
       "8112   cream of roasted tomato soup   35864       45           22015   \n",
       "7288        coconut custard squares  136862       50          130663   \n",
       "25838      steak in pizzaiola sauce   94655       20          115853   \n",
       "\n",
       "        submitted  n_steps                                        description  \\\n",
       "9121   2002-05-13      7.0  this is go good and easy to make . i top it wi...   \n",
       "26451  2007-07-12      7.0  this is my tweeked version of a recipe on this...   \n",
       "8112   2002-08-02      NaN  not sure where it came from originally, but it...   \n",
       "7288   2005-09-11      8.0                     haven't tried this recipe yet.   \n",
       "25838  2004-06-29      9.0  my dh2b loved the chicken pizzaiola sub at sub...   \n",
       "\n",
       "       n_ingredients  \n",
       "9121             5.0  \n",
       "26451            5.0  \n",
       "8112            13.0  \n",
       "7288             5.0  \n",
       "25838            8.0  "
      ]
     },
     "execution_count": 23,
     "metadata": {},
     "output_type": "execute_result"
    }
   ],
   "source": [
    "s = recipes.sample(5)\n",
    "s"
   ]
  },
  {
   "cell_type": "code",
   "execution_count": 24,
   "metadata": {},
   "outputs": [
    {
     "data": {
      "text/plain": [
       "(8, 9)"
      ]
     },
     "execution_count": 24,
     "metadata": {},
     "output_type": "execute_result"
    }
   ],
   "source": [
    "w1 = len(str(s['id'].max())) + 2\n",
    "w2 = len(max(str(s['minutes'].max()), 'minutes')) + 2\n",
    "w1, w2"
   ]
  },
  {
   "cell_type": "code",
   "execution_count": 25,
   "metadata": {},
   "outputs": [],
   "source": [
    "def f(a,b):\n",
    "    return f'|{a: ^{w1}}|{b: ^{w2}}|'"
   ]
  },
  {
   "cell_type": "code",
   "execution_count": 26,
   "metadata": {},
   "outputs": [],
   "source": [
    "ids = s['id']\n",
    "mins = s['minutes']"
   ]
  },
  {
   "cell_type": "code",
   "execution_count": 27,
   "metadata": {},
   "outputs": [
    {
     "name": "stdout",
     "output_type": "stream",
     "text": [
      "|   id   | minutes |\n",
      "|------------------|\n",
      "| 28216  |   60    |\n",
      "| 240054 |   10    |\n",
      "| 35864  |   45    |\n",
      "| 136862 |   50    |\n",
      "| 94655  |   20    |\n"
     ]
    }
   ],
   "source": [
    "print(f('id', 'minutes'))\n",
    "print(f'|{\"-\"*(w1+w2+1)}|')\n",
    "\n",
    "for i in range(5):\n",
    "    print(f(ids.iloc[i], mins.iloc[i]))"
   ]
  },
  {
   "cell_type": "markdown",
   "metadata": {},
   "source": [
    "2\\. Напишите функцию `show_info`, которая по данным о рецепте создает строку (в смысле объекта python) с описанием следующего вида:\n",
    "\n",
    "```\n",
    "\"Название Из Нескольких Слов\"\n",
    "\n",
    "1. Шаг 1\n",
    "2. Шаг 2\n",
    "----------\n",
    "Автор: contributor_id\n",
    "Среднее время приготовления: minutes минут\n",
    "```\n",
    "\n",
    "    \n",
    "Данные для создания строки получите из файлов `recipes_sample.csv` (__ЛР2__) и `steps_sample.xml` (__ЛР3__). \n",
    "Вызовите данную функцию для рецепта с id `170895` и выведите (через `print`) полученную строку на экран."
   ]
  },
  {
   "cell_type": "code",
   "execution_count": null,
   "metadata": {},
   "outputs": [],
   "source": [
    "assert (\n",
    "    show_info(\n",
    "        name=\"george s at the cove black bean soup\",\n",
    "        steps=[\n",
    "            \"clean the leeks and discard the dark green portions\",\n",
    "            \"cut the leeks lengthwise then into one-inch pieces\",\n",
    "            \"melt the butter in a medium skillet , med\",\n",
    "        ],\n",
    "        minutes=90,\n",
    "        author_id=35193,\n",
    "    )\n",
    "    == '\"George S At The Cove Black Bean Soup\"\\n\\n1. Clean the leeks and discard the dark green portions\\n2. Cut the leeks lengthwise then into one-inch pieces\\n3. Melt the butter in a medium skillet , med\\n----------\\nАвтор: 35193\\nСреднее время приготовления: 90 минут\\n'\n",
    ")"
   ]
  },
  {
   "cell_type": "code",
   "execution_count": 21,
   "metadata": {},
   "outputs": [],
   "source": [
    "from bs4 import BeautifulSoup"
   ]
  },
  {
   "cell_type": "code",
   "execution_count": 22,
   "metadata": {},
   "outputs": [],
   "source": [
    "with open('steps_sample.xml') as f:\n",
    "    ss = BeautifulSoup(f, 'xml')"
   ]
  },
  {
   "cell_type": "code",
   "execution_count": 31,
   "metadata": {},
   "outputs": [],
   "source": [
    "steps = {}\n",
    "\n",
    "for i in ss.recipes.find_all('recipe'):\n",
    "    if i('id')[0].text == '170895':\n",
    "        step = i.find_all('step')\n",
    "        for n, s in enumerate(step):\n",
    "            steps[n+1] = s.text"
   ]
  },
  {
   "cell_type": "code",
   "execution_count": 32,
   "metadata": {},
   "outputs": [
    {
     "data": {
      "text/html": [
       "<div>\n",
       "<style scoped>\n",
       "    .dataframe tbody tr th:only-of-type {\n",
       "        vertical-align: middle;\n",
       "    }\n",
       "\n",
       "    .dataframe tbody tr th {\n",
       "        vertical-align: top;\n",
       "    }\n",
       "\n",
       "    .dataframe thead th {\n",
       "        text-align: right;\n",
       "    }\n",
       "</style>\n",
       "<table border=\"1\" class=\"dataframe\">\n",
       "  <thead>\n",
       "    <tr style=\"text-align: right;\">\n",
       "      <th></th>\n",
       "      <th>name</th>\n",
       "      <th>id</th>\n",
       "      <th>minutes</th>\n",
       "      <th>contributor_id</th>\n",
       "      <th>submitted</th>\n",
       "      <th>n_steps</th>\n",
       "      <th>description</th>\n",
       "      <th>n_ingredients</th>\n",
       "    </tr>\n",
       "  </thead>\n",
       "  <tbody>\n",
       "    <tr>\n",
       "      <th>15754</th>\n",
       "      <td>leeks and parsnips  sauteed or creamed</td>\n",
       "      <td>170895</td>\n",
       "      <td>27</td>\n",
       "      <td>8377</td>\n",
       "      <td>2006-05-31</td>\n",
       "      <td>21.0</td>\n",
       "      <td>this is good sauteed only or creamed. very eas...</td>\n",
       "      <td>9.0</td>\n",
       "    </tr>\n",
       "  </tbody>\n",
       "</table>\n",
       "</div>"
      ],
      "text/plain": [
       "                                         name      id  minutes  \\\n",
       "15754  leeks and parsnips  sauteed or creamed  170895       27   \n",
       "\n",
       "       contributor_id   submitted  n_steps  \\\n",
       "15754            8377  2006-05-31     21.0   \n",
       "\n",
       "                                             description  n_ingredients  \n",
       "15754  this is good sauteed only or creamed. very eas...            9.0  "
      ]
     },
     "execution_count": 32,
     "metadata": {},
     "output_type": "execute_result"
    }
   ],
   "source": [
    "needed = recipes[recipes['id'] == 170895]\n",
    "needed"
   ]
  },
  {
   "cell_type": "code",
   "execution_count": 249,
   "metadata": {},
   "outputs": [],
   "source": [
    "def show_info(rec, st):\n",
    "    line = f'\"{rec[\"name\"].iloc[0]}\"\\n\\n'\n",
    "    for k, v in st.items():\n",
    "        l = f'{k}. {v}\\n'\n",
    "        line += l\n",
    "    line += f'{\"-\"*15}\\nАвтор: {rec[\"contributor_id\"].iloc[0]}\\nСреднее время приготовления: minutes минут: {rec[\"minutes\"].iloc[0]}'\n",
    "    return line"
   ]
  },
  {
   "cell_type": "code",
   "execution_count": 250,
   "metadata": {},
   "outputs": [
    {
     "name": "stdout",
     "output_type": "stream",
     "text": [
      "\"leeks and parsnips  sauteed or creamed\"\n",
      "\n",
      "1. clean the leeks and discard the dark green portions\n",
      "2. cut the leeks lengthwise then into one-inch pieces\n",
      "3. melt the butter in a medium skillet , med\n",
      "4. heat\n",
      "5. add the garlic and fry 'til fragrant\n",
      "6. add leeks and fry until the leeks are tender , about 6-minutes\n",
      "7. meanwhile , peel and chunk the parsnips into one-inch pieces\n",
      "8. place in a steaming basket and steam 'til they are as tender as you prefer\n",
      "9. i like them fork-tender\n",
      "10. drain parsnips and add to the skillet with the leeks\n",
      "11. add salt and pepper\n",
      "12. gently sautee together for 5-minutes\n",
      "13. at this point you can serve it , or continue on and cream it:\n",
      "14. in a jar with a screw top , add the half-n-half and arrowroot\n",
      "15. shake 'til blended\n",
      "16. turn heat to low under the leeks and parsnips\n",
      "17. pour in the arrowroot mixture , stirring gently as you pour\n",
      "18. if too thick , gradually add the water\n",
      "19. let simmer for a couple of minutes\n",
      "20. taste to adjust seasoning , probably an additional 1 / 2 teaspoon salt\n",
      "21. serve warm\n",
      "---------------\n",
      "Автор: 8377\n",
      "Среднее время приготовления: minutes минут: 27\n"
     ]
    }
   ],
   "source": [
    "print(show_info(needed, steps))"
   ]
  },
  {
   "cell_type": "markdown",
   "metadata": {},
   "source": [
    "## Работа с регулярными выражениями"
   ]
  },
  {
   "cell_type": "markdown",
   "metadata": {},
   "source": [
    "3\\. Напишите регулярное выражение, которое ищет следующий паттерн в строке: число (1 цифра или более), затем пробел, затем слова: hour или hours или minute или minutes. Произведите поиск по данному регулярному выражению в каждом шаге рецепта с id 25082. Выведите на экран все непустые результаты, найденные по данному шаблону."
   ]
  },
  {
   "cell_type": "code",
   "execution_count": 23,
   "metadata": {},
   "outputs": [
    {
     "name": "stdout",
     "output_type": "stream",
     "text": [
      "100 times\n",
      "20 minutes\n",
      "10 minutes\n",
      "2 hours\n",
      "10 minutes\n",
      "20 minutes 30 minutes\n"
     ]
    }
   ],
   "source": [
    "for i in ss.recipes.find_all('recipe'):\n",
    "    if i('id')[0].text == '25082':\n",
    "        step = i.find_all('step')\n",
    "        for i in step:\n",
    "            r = re.findall('\\d{1,} [hoursminutes]{4,}', i.text)\n",
    "            if r:\n",
    "                print(*r)"
   ]
  },
  {
   "cell_type": "code",
   "execution_count": 25,
   "metadata": {},
   "outputs": [
    {
     "name": "stdout",
     "output_type": "stream",
     "text": [
      "20 minutes\n",
      "10 minutes\n",
      "2 hours\n",
      "10 minutes\n",
      "20 minutes 30 minutes\n"
     ]
    }
   ],
   "source": [
    "for i in ss.recipes.find_all('recipe'):\n",
    "    if i('id')[0].text == '25082':\n",
    "        step = i.find_all('step')\n",
    "        for i in step:\n",
    "            r = re.findall('\\d{1,} hours?|\\d{1,} minutes?', i.text)\n",
    "            if r:\n",
    "                print(*r)"
   ]
  },
  {
   "cell_type": "markdown",
   "metadata": {},
   "source": [
    "4\\. Напишите регулярное выражение, которое ищет шаблон вида \"this..., but\" _в начале строки_ . Между словом \"this\" и частью \", but\" может находиться произвольное число букв, цифр, знаков подчеркивания и пробелов. Никаких других символов вместо многоточия быть не может. Пробел между запятой и словом \"but\" может присутствовать или отсутствовать.\n",
    "\n",
    "Используя строковые методы `pd.Series`, выясните, для каких рецептов данный шаблон содержится в тексте описания. Выведите на экран количество таких рецептов и 3 примера подходящих описаний (текст описания должен быть виден на экране полностью)."
   ]
  },
  {
   "cell_type": "code",
   "execution_count": 42,
   "metadata": {},
   "outputs": [
    {
     "name": "stdout",
     "output_type": "stream",
     "text": [
      "okay, i probably didn't make this up, but i felt like i did.  i was looking for something new to make that my kids would love.  it was colorful and my 3 year old called it rainbow chicken. so easy and i liked it too!\r\n",
      "the amounts and times are not exact i didn't really measure as i was going along.\n",
      "\n",
      "haven't tried this yet, but it looked delicious.\n",
      "\n",
      "this recipe is by don mauer, a syndicated food columnist. the technique used here makes for a fast yet tender pot roast. the 90 minutes refers to time in the oven, there is additional time needed for brining and cooking. do not cook vegetables with the pot roast - cook them separately or parboil and add to the gravy as it cooks. prep times are estimated, as i have not made this yet, but am looking forward to doing so. please note that the sodium count is off - the sodium is principally in the brine, which is discarded.\n"
     ]
    }
   ],
   "source": [
    "desc = recipes['description']\n",
    "suitable = []\n",
    "\n",
    "for i in desc:\n",
    "    r = re.findall('this \\w*\\d*\\s*, ?but', str(i))\n",
    "    if r:\n",
    "        suitable.append(i)\n",
    "        \n",
    "print(*suitable[:3], sep='\\n\\n')"
   ]
  },
  {
   "cell_type": "code",
   "execution_count": 330,
   "metadata": {},
   "outputs": [
    {
     "data": {
      "text/plain": [
       "168"
      ]
     },
     "execution_count": 330,
     "metadata": {},
     "output_type": "execute_result"
    }
   ],
   "source": [
    "len(suitable)"
   ]
  },
  {
   "cell_type": "code",
   "execution_count": 319,
   "metadata": {},
   "outputs": [
    {
     "data": {
      "text/plain": [
       "True"
      ]
     },
     "execution_count": 319,
     "metadata": {},
     "output_type": "execute_result"
    }
   ],
   "source": [
    "'this is another neat recipe i found online.i really enjoy recipes like this. they are very warm,cozy but easy to make.have not made this yet,but i am sure i will soon!8)' in suitable"
   ]
  },
  {
   "cell_type": "markdown",
   "metadata": {},
   "source": [
    "5\\. В текстах шагов рецептов обыкновенные дроби имеют вид \"a / b\". Используя регулярные выражения, уберите в тексте шагов рецепта с id 72367 пробелы до и после символа дроби. Выведите на экран шаги этого рецепта после их изменения."
   ]
  },
  {
   "cell_type": "code",
   "execution_count": 26,
   "metadata": {},
   "outputs": [
    {
     "name": "stdout",
     "output_type": "stream",
     "text": [
      "mix butter , flour , 1/3 c\n",
      "sugar and 1-1/4 t\n",
      "mix cream cheese , 1/4 c\n",
      "sugar , eggs and 1/2 t\n",
      "combine apples , 1/3 c\n"
     ]
    }
   ],
   "source": [
    "for i in ss.recipes.find_all('recipe'):\n",
    "    if i('id')[0].text == '72367':\n",
    "        step = i.find_all('step')\n",
    "        for i in step:\n",
    "            t = i.text\n",
    "            if re.findall('/', t):\n",
    "                r = re.sub('\\d+ / \\d+', t[t.index('/')-2]+t[t.index('/')]+t[t.index('/')+2], t)\n",
    "                print(r)\n",
    "        break"
   ]
  },
  {
   "cell_type": "code",
   "execution_count": 36,
   "metadata": {},
   "outputs": [
    {
     "name": "stdout",
     "output_type": "stream",
     "text": [
      "mix butter , flour , 1/3 c\n",
      "sugar and 1-1/4 t\n",
      "mix cream cheese , 1/4 c\n",
      "sugar , eggs and 1/2 t\n",
      "combine apples , 1/3 c\n"
     ]
    }
   ],
   "source": [
    "for i in ss.recipes.find_all('recipe'):\n",
    "    if i('id')[0].text == '72367':\n",
    "        step = i.find_all('step')\n",
    "        for i in step:\n",
    "            t = i.text\n",
    "            for frac in re.findall('\\d+ / \\d+', t):\n",
    "                r = re.sub(frac, ''.join(frac.split()), t)\n",
    "                print(r)\n",
    "        break"
   ]
  },
  {
   "cell_type": "markdown",
   "metadata": {},
   "source": [
    "### Сегментация текста"
   ]
  },
  {
   "cell_type": "markdown",
   "metadata": {},
   "source": [
    "6\\. Разбейте тексты шагов рецептов на слова при помощи пакета `nltk`. Посчитайте и выведите на экран кол-во уникальных слов среди всех рецептов. Словом называется любая последовательность алфавитных символов (для проверки можно воспользоваться `str.isalpha`). При подсчете количества уникальных слов не учитывайте регистр."
   ]
  },
  {
   "cell_type": "code",
   "execution_count": 357,
   "metadata": {},
   "outputs": [
    {
     "name": "stdout",
     "output_type": "stream",
     "text": [
      "Collecting razdel\n",
      "  Obtaining dependency information for razdel from https://files.pythonhosted.org/packages/15/2c/664223a3924aa6e70479f7d37220b3a658765b9cfe760b4af7ffdc50d38f/razdel-0.5.0-py3-none-any.whl.metadata\n",
      "  Downloading razdel-0.5.0-py3-none-any.whl.metadata (10.0 kB)\n",
      "Downloading razdel-0.5.0-py3-none-any.whl (21 kB)\n",
      "Installing collected packages: razdel\n",
      "Successfully installed razdel-0.5.0\n",
      "Note: you may need to restart the kernel to use updated packages.\n"
     ]
    }
   ],
   "source": [
    "%pip install razdel"
   ]
  },
  {
   "cell_type": "code",
   "execution_count": 43,
   "metadata": {},
   "outputs": [],
   "source": [
    "import nltk\n",
    "from nltk.tokenize import sent_tokenize, word_tokenize"
   ]
  },
  {
   "cell_type": "code",
   "execution_count": 7,
   "metadata": {},
   "outputs": [
    {
     "name": "stderr",
     "output_type": "stream",
     "text": [
      "[nltk_data] Downloading package punkt to\n",
      "[nltk_data]     C:\\Users\\Elizabeth\\AppData\\Roaming\\nltk_data...\n",
      "[nltk_data]   Unzipping tokenizers\\punkt.zip.\n"
     ]
    },
    {
     "data": {
      "text/plain": [
       "True"
      ]
     },
     "execution_count": 7,
     "metadata": {},
     "output_type": "execute_result"
    }
   ],
   "source": [
    "nltk.download('punkt')"
   ]
  },
  {
   "cell_type": "code",
   "execution_count": 36,
   "metadata": {},
   "outputs": [],
   "source": [
    "u = set()\n",
    "\n",
    "for i in ss.recipes.find_all('recipe'):\n",
    "    ww = word_tokenize(i.text)\n",
    "    for w in ww:\n",
    "        if w.isalpha():\n",
    "            u.add(w)"
   ]
  },
  {
   "cell_type": "code",
   "execution_count": 41,
   "metadata": {
    "scrolled": false
   },
   "outputs": [
    {
     "data": {
      "text/plain": [
       "14922"
      ]
     },
     "execution_count": 41,
     "metadata": {},
     "output_type": "execute_result"
    }
   ],
   "source": [
    "len(u)"
   ]
  },
  {
   "cell_type": "markdown",
   "metadata": {},
   "source": [
    "7\\. Разбейте описания рецептов из `recipes` на предложения при помощи пакета `nltk`. Найдите 5 самых длинных описаний (по количеству _предложений_) рецептов в датасете и выведите строки фрейма, соответствующие этим рецептами, в порядке убывания длины."
   ]
  },
  {
   "cell_type": "code",
   "execution_count": 44,
   "metadata": {},
   "outputs": [],
   "source": [
    "sent = {}\n",
    "\n",
    "for i in desc:\n",
    "    if type(i) == str:\n",
    "        ww = sent_tokenize(i)\n",
    "        id_r = recipes[recipes['description'] == i]['id']\n",
    "        sent[id_r.iloc[0]] = ww"
   ]
  },
  {
   "cell_type": "code",
   "execution_count": 45,
   "metadata": {},
   "outputs": [],
   "source": [
    "s_r = list(sent.values())\n",
    "s_r.sort(key=lambda x: len(x), reverse=True)"
   ]
  },
  {
   "cell_type": "code",
   "execution_count": 70,
   "metadata": {},
   "outputs": [],
   "source": [
    "sent = {}\n",
    "\n",
    "for i in desc:\n",
    "    if type(i) == str:\n",
    "        ww = sent_tokenize(i)\n",
    "        id_r = recipes[recipes['description'] == i]['id']\n",
    "#         print(id_r.index[0])\n",
    "        sent[id_r.index[0]] = ww\n",
    "#         break"
   ]
  },
  {
   "cell_type": "code",
   "execution_count": 71,
   "metadata": {},
   "outputs": [],
   "source": [
    "a = [next(k for k, v in sent.items() if v == i) for i in s_r[:5]]"
   ]
  },
  {
   "cell_type": "code",
   "execution_count": 72,
   "metadata": {},
   "outputs": [
    {
     "data": {
      "text/html": [
       "<div>\n",
       "<style scoped>\n",
       "    .dataframe tbody tr th:only-of-type {\n",
       "        vertical-align: middle;\n",
       "    }\n",
       "\n",
       "    .dataframe tbody tr th {\n",
       "        vertical-align: top;\n",
       "    }\n",
       "\n",
       "    .dataframe thead th {\n",
       "        text-align: right;\n",
       "    }\n",
       "</style>\n",
       "<table border=\"1\" class=\"dataframe\">\n",
       "  <thead>\n",
       "    <tr style=\"text-align: right;\">\n",
       "      <th></th>\n",
       "      <th>name</th>\n",
       "      <th>id</th>\n",
       "      <th>minutes</th>\n",
       "      <th>contributor_id</th>\n",
       "      <th>submitted</th>\n",
       "      <th>n_steps</th>\n",
       "      <th>description</th>\n",
       "      <th>n_ingredients</th>\n",
       "    </tr>\n",
       "  </thead>\n",
       "  <tbody>\n",
       "    <tr>\n",
       "      <th>18408</th>\n",
       "      <td>my favorite buttercream icing for decorating</td>\n",
       "      <td>334113</td>\n",
       "      <td>30</td>\n",
       "      <td>681465</td>\n",
       "      <td>2008-10-30</td>\n",
       "      <td>12.0</td>\n",
       "      <td>this wonderful icing is used for icing cakes a...</td>\n",
       "      <td>NaN</td>\n",
       "    </tr>\n",
       "    <tr>\n",
       "      <th>481</th>\n",
       "      <td>alligator claws  avocado fritters  with chipot...</td>\n",
       "      <td>287008</td>\n",
       "      <td>45</td>\n",
       "      <td>765354</td>\n",
       "      <td>2008-02-19</td>\n",
       "      <td>NaN</td>\n",
       "      <td>a translucent golden-brown crust allows the gr...</td>\n",
       "      <td>9.0</td>\n",
       "    </tr>\n",
       "    <tr>\n",
       "      <th>22566</th>\n",
       "      <td>rich barley mushroom soup</td>\n",
       "      <td>328708</td>\n",
       "      <td>60</td>\n",
       "      <td>221776</td>\n",
       "      <td>2008-10-03</td>\n",
       "      <td>NaN</td>\n",
       "      <td>this is one of the best soups i've ever made a...</td>\n",
       "      <td>10.0</td>\n",
       "    </tr>\n",
       "    <tr>\n",
       "      <th>6779</th>\n",
       "      <td>chocolate tea</td>\n",
       "      <td>205348</td>\n",
       "      <td>6</td>\n",
       "      <td>428824</td>\n",
       "      <td>2007-01-14</td>\n",
       "      <td>NaN</td>\n",
       "      <td>i wrote this because there are an astounding l...</td>\n",
       "      <td>NaN</td>\n",
       "    </tr>\n",
       "    <tr>\n",
       "      <th>16296</th>\n",
       "      <td>little bunny foo foo cake  carrot cake  with c...</td>\n",
       "      <td>316000</td>\n",
       "      <td>68</td>\n",
       "      <td>689540</td>\n",
       "      <td>2008-07-27</td>\n",
       "      <td>14.0</td>\n",
       "      <td>the first time i made this cake i grated a mil...</td>\n",
       "      <td>NaN</td>\n",
       "    </tr>\n",
       "  </tbody>\n",
       "</table>\n",
       "</div>"
      ],
      "text/plain": [
       "                                                    name      id  minutes  \\\n",
       "18408       my favorite buttercream icing for decorating  334113       30   \n",
       "481    alligator claws  avocado fritters  with chipot...  287008       45   \n",
       "22566                          rich barley mushroom soup  328708       60   \n",
       "6779                                       chocolate tea  205348        6   \n",
       "16296  little bunny foo foo cake  carrot cake  with c...  316000       68   \n",
       "\n",
       "       contributor_id   submitted  n_steps  \\\n",
       "18408          681465  2008-10-30     12.0   \n",
       "481            765354  2008-02-19      NaN   \n",
       "22566          221776  2008-10-03      NaN   \n",
       "6779           428824  2007-01-14      NaN   \n",
       "16296          689540  2008-07-27     14.0   \n",
       "\n",
       "                                             description  n_ingredients  \n",
       "18408  this wonderful icing is used for icing cakes a...            NaN  \n",
       "481    a translucent golden-brown crust allows the gr...            9.0  \n",
       "22566  this is one of the best soups i've ever made a...           10.0  \n",
       "6779   i wrote this because there are an astounding l...            NaN  \n",
       "16296  the first time i made this cake i grated a mil...            NaN  "
      ]
     },
     "execution_count": 72,
     "metadata": {},
     "output_type": "execute_result"
    }
   ],
   "source": [
    "recipes.loc[a]"
   ]
  },
  {
   "cell_type": "code",
   "execution_count": 46,
   "metadata": {},
   "outputs": [
    {
     "name": "stdout",
     "output_type": "stream",
     "text": [
      "                                               name      id  minutes  \\\n",
      "18408  my favorite buttercream icing for decorating  334113       30   \n",
      "\n",
      "       contributor_id   submitted  n_steps  \\\n",
      "18408          681465  2008-10-30     12.0   \n",
      "\n",
      "                                             description  n_ingredients  \n",
      "18408  this wonderful icing is used for icing cakes a...            NaN  \n",
      "                                                  name      id  minutes  \\\n",
      "481  alligator claws  avocado fritters  with chipot...  287008       45   \n",
      "\n",
      "     contributor_id   submitted  n_steps  \\\n",
      "481          765354  2008-02-19      NaN   \n",
      "\n",
      "                                           description  n_ingredients  \n",
      "481  a translucent golden-brown crust allows the gr...            9.0  \n",
      "                            name      id  minutes  contributor_id   submitted  \\\n",
      "22566  rich barley mushroom soup  328708       60          221776  2008-10-03   \n",
      "\n",
      "       n_steps                                        description  \\\n",
      "22566      NaN  this is one of the best soups i've ever made a...   \n",
      "\n",
      "       n_ingredients  \n",
      "22566           10.0  \n",
      "               name      id  minutes  contributor_id   submitted  n_steps  \\\n",
      "6779  chocolate tea  205348        6          428824  2007-01-14      NaN   \n",
      "\n",
      "                                            description  n_ingredients  \n",
      "6779  i wrote this because there are an astounding l...            NaN  \n",
      "                                                    name      id  minutes  \\\n",
      "16296  little bunny foo foo cake  carrot cake  with c...  316000       68   \n",
      "\n",
      "       contributor_id   submitted  n_steps  \\\n",
      "16296          689540  2008-07-27     14.0   \n",
      "\n",
      "                                             description  n_ingredients  \n",
      "16296  the first time i made this cake i grated a mil...            NaN  \n"
     ]
    }
   ],
   "source": [
    "for i in s_r[:5]:\n",
    "    a = recipes[recipes['id'] == next(k for k, v in sent.items() if v == i)]\n",
    "    print(a)"
   ]
  },
  {
   "cell_type": "markdown",
   "metadata": {},
   "source": [
    "8\\. Напишите функцию, которая для заданного предложения выводит информацию о частях речи слов, входящих в предложение, в следующем виде:\n",
    "```\n",
    "PRP   VBD   DT      NNS     CC   VBD      NNS        RB   \n",
    " I  omitted the raspberries and added strawberries instead\n",
    "``` \n",
    "Для определения части речи слова можно воспользоваться `nltk.pos_tag`.\n",
    "\n",
    "Проверьте работоспособность функции на названии рецепта с id 241106.\n",
    "\n",
    "Обратите внимание, что часть речи должна находиться ровно посередине над соотвествующим словом, а между самими словами должен быть ровно один пробел.\n"
   ]
  },
  {
   "cell_type": "code",
   "execution_count": 73,
   "metadata": {},
   "outputs": [],
   "source": [
    "from nltk.tag import pos_tag"
   ]
  },
  {
   "cell_type": "code",
   "execution_count": 126,
   "metadata": {},
   "outputs": [
    {
     "name": "stderr",
     "output_type": "stream",
     "text": [
      "[nltk_data] Downloading package averaged_perceptron_tagger to\n",
      "[nltk_data]     C:\\Users\\Elizabeth\\AppData\\Roaming\\nltk_data...\n",
      "[nltk_data]   Unzipping taggers\\averaged_perceptron_tagger.zip.\n"
     ]
    },
    {
     "data": {
      "text/plain": [
       "True"
      ]
     },
     "execution_count": 126,
     "metadata": {},
     "output_type": "execute_result"
    }
   ],
   "source": [
    "nltk.download('averaged_perceptron_tagger')"
   ]
  },
  {
   "cell_type": "code",
   "execution_count": 74,
   "metadata": {},
   "outputs": [
    {
     "data": {
      "text/plain": [
       "'eggplant steaks with chickpeas  feta cheese and black olives'"
      ]
     },
     "execution_count": 74,
     "metadata": {},
     "output_type": "execute_result"
    }
   ],
   "source": [
    "name = recipes[recipes['id'] == 241106]['name'].iloc[0]\n",
    "name"
   ]
  },
  {
   "cell_type": "code",
   "execution_count": 142,
   "metadata": {},
   "outputs": [],
   "source": [
    "def wisdom(sentence):\n",
    "    sentence = pos_tag(word_tokenize(sentence))\n",
    "    first = ''\n",
    "    second = ''\n",
    "    for para in sentence:\n",
    "        l = max(len(para[0]), len(para[1])) + 2\n",
    "        first += f'{para[1]: ^{l}}'\n",
    "        second += f'{para[0]: ^{l}}'\n",
    "    print(f'{first}\\n{second}')"
   ]
  },
  {
   "cell_type": "code",
   "execution_count": 143,
   "metadata": {},
   "outputs": [
    {
     "name": "stdout",
     "output_type": "stream",
     "text": [
      "    JJ      NNS     IN      NNS     VBP     JJ    CC    JJ     NNS   \n",
      " eggplant  steaks  with  chickpeas  feta  cheese  and  black  olives \n"
     ]
    }
   ],
   "source": [
    "wisdom(name)"
   ]
  },
  {
   "cell_type": "code",
   "execution_count": 76,
   "metadata": {},
   "outputs": [
    {
     "data": {
      "text/plain": [
       "[('eggplant', 'JJ'),\n",
       " ('steaks', 'NNS'),\n",
       " ('with', 'IN'),\n",
       " ('chickpeas', 'NNS'),\n",
       " ('feta', 'VBP'),\n",
       " ('cheese', 'JJ'),\n",
       " ('and', 'CC'),\n",
       " ('black', 'JJ'),\n",
       " ('olives', 'NNS')]"
      ]
     },
     "execution_count": 76,
     "metadata": {},
     "output_type": "execute_result"
    }
   ],
   "source": [
    "pos_tag(word_tokenize(name))"
   ]
  },
  {
   "cell_type": "code",
   "execution_count": null,
   "metadata": {},
   "outputs": [],
   "source": []
  }
 ],
 "metadata": {
  "kernelspec": {
   "display_name": "Python 3 (ipykernel)",
   "language": "python",
   "name": "python3"
  },
  "language_info": {
   "codemirror_mode": {
    "name": "ipython",
    "version": 3
   },
   "file_extension": ".py",
   "mimetype": "text/x-python",
   "name": "python",
   "nbconvert_exporter": "python",
   "pygments_lexer": "ipython3",
   "version": "3.11.4"
  }
 },
 "nbformat": 4,
 "nbformat_minor": 4
}
