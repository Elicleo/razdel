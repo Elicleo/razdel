{
 "cells": [
  {
   "cell_type": "markdown",
   "metadata": {},
   "source": [
    "# Лекция 8: Оптимизация выполнения кода, векторизация, Numba"
   ]
  },
  {
   "cell_type": "markdown",
   "metadata": {},
   "source": [
    "__Автор: Сергей Вячеславович Макрушин, 2022 г.__\n",
    "\n",
    "e-mail: s-makrushin@yandex.ru \n",
    "\n",
    "При подготовке лекции использованы материалы:\n",
    "* Документация к рассмотренным пакетам\n",
    "\n",
    "V 0.6 30.10.2022"
   ]
  },
  {
   "cell_type": "markdown",
   "metadata": {},
   "source": [
    "## Разделы: <a class=\"anchor\" id=\"разделы\"></a>\n",
    "* [Профилирование](#профилирование)\n",
    "* [Numba](#numba)\n",
    "* [Векторизация в NumPy](#векторизация)\n",
    "    * [Векторизация для скалярных функций NumPy](#скалярные)\n",
    "    * [Векторизация для векторных функций в NumPy](#векторные)\n",
    "    * [Векторизация в Numba](#numbavec)\n",
    "\n",
    "-\n",
    "\n",
    "* [к оглавлению](#разделы)"
   ]
  },
  {
   "cell_type": "code",
   "execution_count": 1,
   "metadata": {},
   "outputs": [
    {
     "data": {
      "text/html": [
       "﻿<style>\r\n",
       "\r\n",
       "\r\n",
       "b.n {\r\n",
       "    font-weight: normal;        \r\n",
       "}\r\n",
       "\r\n",
       "b.grbg {\r\n",
       "    background-color: #a0a0a0;      \r\n",
       "}\r\n",
       "\r\n",
       "b.r {\r\n",
       "    color: #ff0000;    \r\n",
       "}\r\n",
       "\r\n",
       "\r\n",
       "b.b {    \r\n",
       "    color: #0000ff;    \r\n",
       "}\r\n",
       "\r\n",
       "b.g {\r\n",
       "    color: #00ff00;    \r\n",
       "}\r\n",
       "\r\n",
       "\r\n",
       "// add your CSS styling here\r\n",
       "\r\n",
       "list-style: none;\r\n",
       "\r\n",
       "ul.s {\r\n",
       "//    list-style-type: none;\r\n",
       "    list-style: none;\r\n",
       "//    background-color: #ff0000;  \r\n",
       "//    color: #ffff00;\r\n",
       "//  padding-left: 1.2em;\r\n",
       "//  text-indent: -1.2em;\r\n",
       "}\r\n",
       "\r\n",
       "li.t {\r\n",
       "    list-style: none;\r\n",
       "//  padding-left: 1.2em;\r\n",
       "//  text-indent: -1.2em;    \r\n",
       "}\r\n",
       "\r\n",
       "\r\n",
       "*.r {\r\n",
       "    color: #ff0000;    \r\n",
       "}\r\n",
       "\r\n",
       "li.t:before {\r\n",
       "    content: \"\\21D2\";    \r\n",
       "//    content: \"►\";\r\n",
       "//    padding-left: -1.2em;    \r\n",
       "    text-indent: -1.2em;    \r\n",
       "    display: block;\r\n",
       "    float: left;\r\n",
       "    \r\n",
       "    \r\n",
       "//    width: 1.2em;\r\n",
       "//    color: #ff0000;\r\n",
       "}\r\n",
       "\r\n",
       "i.m:before {\r\n",
       "    font-style: normal;    \r\n",
       "    content: \"\\21D2\";  \r\n",
       "}\r\n",
       "i.m {\r\n",
       "    font-style: normal; \r\n",
       "}    \r\n",
       "\r\n",
       "/*--------------------*/\r\n",
       "/* em {\r\n",
       "    font-style: normal; \r\n",
       "} */\r\n",
       "\r\n",
       "\r\n",
       "em.bl {\r\n",
       "    font-style: normal;     \r\n",
       "    font-weight: bold;        \r\n",
       "}\r\n",
       "\r\n",
       "/* em.grbg {\r\n",
       "    font-style: normal;         \r\n",
       "    background-color: #a0a0a0;      \r\n",
       "} */\r\n",
       "\r\n",
       "em.cr {\r\n",
       "    font-style: normal;         \r\n",
       "    color: #ff0000;    \r\n",
       "}\r\n",
       "\r\n",
       "em.cb {    \r\n",
       "    font-style: normal;         \r\n",
       "    color: #0000ff;    \r\n",
       "}\r\n",
       "\r\n",
       "em.cg {\r\n",
       "    font-style: normal;         \r\n",
       "    color: #00ff00;    \r\n",
       "}\r\n",
       "\r\n",
       "/*--------------------*/\r\n",
       "\r\n",
       "em.qs {\r\n",
       "    font-style: normal; \r\n",
       "}\r\n",
       "\r\n",
       "em.qs::before {\r\n",
       "    font-weight: bold;    \r\n",
       "    color: #ff0000;    \r\n",
       "    content: \"Q:\";  \r\n",
       "}\r\n",
       "\r\n",
       "em.an {\r\n",
       "    font-style: normal; \r\n",
       "}\r\n",
       "\r\n",
       "em.an:before {\r\n",
       "    font-weight: bold;    \r\n",
       "    color: #0000ff;    \r\n",
       "    content: \"A:\";  \r\n",
       "}\r\n",
       "    \r\n",
       "em.nt {\r\n",
       "    font-style: normal; \r\n",
       "}\r\n",
       "\r\n",
       "em.nt:before {\r\n",
       "    font-weight: bold;    \r\n",
       "    color: #0000ff;    \r\n",
       "    content: \"Note:\";  \r\n",
       "}    \r\n",
       "    \r\n",
       "em.ex {\r\n",
       "    font-style: normal; \r\n",
       "}\r\n",
       "\r\n",
       "em.ex:before {\r\n",
       "    font-weight: bold;    \r\n",
       "    color: #00ff00;    \r\n",
       "    content: \"Ex:\";  \r\n",
       "} \r\n",
       "    \r\n",
       "em.df {\r\n",
       "    font-style: normal; \r\n",
       "}\r\n",
       "\r\n",
       "em.df:before {\r\n",
       "    font-weight: bold;    \r\n",
       "    color: #0000ff;    \r\n",
       "    content: \"Def:\";  \r\n",
       "}    \r\n",
       "\r\n",
       "em.pl {\r\n",
       "    font-style: normal; \r\n",
       "}\r\n",
       "\r\n",
       "em.pl:before {\r\n",
       "    font-weight: bold;    \r\n",
       "    color: #0000ff;    \r\n",
       "    content: \"+\";  \r\n",
       "}    \r\n",
       "\r\n",
       "em.mn {\r\n",
       "    font-style: normal; \r\n",
       "}\r\n",
       "\r\n",
       "em.mn:before {\r\n",
       "    font-weight: bold;    \r\n",
       "    color: #0000ff;    \r\n",
       "    content: \"-\";  \r\n",
       "}        \r\n",
       "\r\n",
       "em.plmn {\r\n",
       "    font-style: normal; \r\n",
       "}\r\n",
       "\r\n",
       "em.plmn:before {\r\n",
       "    font-weight: bold;    \r\n",
       "    color: #0000ff;    \r\n",
       "    content: \"\\00B1\";\\\\\"&plusmn;\";  \r\n",
       "}\r\n",
       "    \r\n",
       "em.hn {\r\n",
       "    font-style: normal; \r\n",
       "}\r\n",
       "\r\n",
       "em.hn:before {\r\n",
       "    font-weight: bold;    \r\n",
       "    color: #0000ff;    \r\n",
       "    content: \"\\21D2\";\\\\\"&rArr;\";  \r\n",
       "}     \r\n",
       "    \r\n",
       "\r\n",
       "#cssTableCenter td, th \r\n",
       "{\r\n",
       "    text-align: center; \r\n",
       "    vertical-align: middle;\r\n",
       "}\r\n",
       "\r\n",
       "</style>"
      ],
      "text/plain": [
       "<IPython.core.display.HTML object>"
      ]
     },
     "execution_count": 1,
     "metadata": {},
     "output_type": "execute_result"
    }
   ],
   "source": [
    "# загружаем стиль для оформления презентации\n",
    "from IPython.display import HTML\n",
    "from urllib.request import urlopen\n",
    "html = urlopen(\"file:./lec_v2.css\")\n",
    "HTML(html.read().decode('utf-8'))"
   ]
  },
  {
   "cell_type": "markdown",
   "metadata": {},
   "source": [
    "__Задача оптимизации__\n",
    "\n",
    "В процессе разработки кода и создания конвейеров обработки данных всегда присутствуют компромиссы между различными реализациями. В начале создания алгоритма забота о подобных вещах может оказаться контрпродуктивной. Согласно знаменитому афоризму Дональда Кнута: _«Лучше не держать в голове подобные “малые” вопросы производительности, скажем, 97 % времени: преждевременная \n",
    "оптимизация — корень всех зол»_.\n",
    "\n",
    "Однако, как только ваш код начинает работать, часто бывает полезно заняться его производительностью. Иногда бывает удобно проверить время выполнения заданной команды или набора команд, а иногда — покопаться в процессе оптимизации и выяснить, где находится узкое место какого-либо сложного набора операций. "
   ]
  },
  {
   "cell_type": "markdown",
   "metadata": {},
   "source": [
    "# Профилирование <a class=\"anchor\" id=\"профилирование\"></a>\n",
    "* [к оглавлению](#разделы)\n",
    "\n",
    "<em class=\"df\"></em> __Профилирование__ — сбор характеристик работы программы, таких как: \n",
    "* время выполнения отдельных фрагментов (например, функций)\n",
    "* число верно предсказанных условных переходов\n",
    "* число кэш-промахов\n",
    "* объем используемой оперативной памяти \n",
    "* и т. д. \n",
    "\n",
    "Инструмент, используемый для анализа работы, называют __профайлером__ (profiler). Обычно профилирование выполняется в процессе оптимизации программы."
   ]
  },
  {
   "cell_type": "markdown",
   "metadata": {},
   "source": [
    "Магические функции IPython для профилирования:\n",
    "\n",
    "* `%time` - длительность выполнения отдельного оператора;\n",
    "* `%timeit` - длительность выполнения отдельного оператора при неоднократном повторе (может использоваться для обсепечения большей точности оценки);\n",
    "* `%prun` - выполнение кода с использованием профилировщика;\n",
    "* `%lprun` - пошаговое выполнение кода с применением профилировщика;\n",
    "* `%memit` - оценка использования оперативной памяти для отдельного оператора;\n",
    "* `%mprun` - пошаговое выполнение кода с применением профилировщика памяти.\n",
    "\n",
    "Для работы с одной строкой кода использутся строчные магические команды (например, `%time`), для работы с целой ячейкой их блочные аналоги (например, `%%time`)."
   ]
  },
  {
   "cell_type": "markdown",
   "metadata": {},
   "source": [
    "__Магические функции в python__\n",
    "\n",
    "__Магические функции__ (magic functions) — одно из важных улучшений, которые предлагает IPython по сравнению со стандартной оболочкой Python. Эти волшебные команды предназначены для решения распространенных задач при анализе данных с помощью Python. Фактически они контролируют поведение самого IPython.\n",
    "\n",
    "Волшебные команды позволяют дают более удобный способ решения задач там, где использование синтаксиса Python было бы не очень эффективно / удобно.\n",
    "\n",
    "Есть два типа магических команд:\n",
    "* __Line magics__ - аналог вызова команд в командной строке консоли. Эти команды начинаются с символа `%`, остальная часть строки — это аргумент, переданный без скобок или кавычек. Остальная часть строки — это аргумент line magic, переданный без скобок или кавычек. Магические линии могут использоваться как выражения, а их возвращаемое значение может быть присвоено переменной.\n",
    "* __Cell magics__ - вызов применяется на несколько строк всей ячейки, для которой применяетс данная функция. Эти команды начинаются с префикса `%%`. Cell magic получает тескт всей ячейки как пеменную строку и может вносить произвольные изменения в получаемые входные данные, которые вообще не обязательно должны быть корректным кодом на Python.\n",
    "\n",
    "При необходимости можно создавать собственные магические команды."
   ]
  },
  {
   "cell_type": "code",
   "execution_count": 2,
   "metadata": {},
   "outputs": [
    {
     "name": "stdout",
     "output_type": "stream",
     "text": [
      "CPU times: total: 0 ns\n",
      "Wall time: 0 ns\n"
     ]
    },
    {
     "data": {
      "text/plain": [
       "4950"
      ]
     },
     "execution_count": 2,
     "metadata": {},
     "output_type": "execute_result"
    }
   ],
   "source": [
    "%time sum(range(100))"
   ]
  },
  {
   "cell_type": "code",
   "execution_count": 3,
   "metadata": {
    "scrolled": false
   },
   "outputs": [
    {
     "name": "stdout",
     "output_type": "stream",
     "text": [
      "1.06 µs ± 50.4 ns per loop (mean ± std. dev. of 7 runs, 1,000,000 loops each)\n"
     ]
    }
   ],
   "source": [
    "%timeit sum(range(100))"
   ]
  },
  {
   "cell_type": "code",
   "execution_count": 4,
   "metadata": {},
   "outputs": [
    {
     "name": "stdout",
     "output_type": "stream",
     "text": [
      "344 ms ± 38.3 ms per loop (mean ± std. dev. of 7 runs, 1 loop each)\n"
     ]
    }
   ],
   "source": [
    "%%timeit \n",
    "\n",
    "total = 0\n",
    "for i in range(1000):\n",
    "    for j in range(1000):\n",
    "        total += i * (-1) ** j"
   ]
  },
  {
   "cell_type": "markdown",
   "metadata": {},
   "source": [
    "Команда `%timeit` выполняет оценку времени многократного выполнения фрагментов кода и автоматически подстраивает колчество повторов выполненеия под длительность работы функции.\n",
    "\n",
    "Дольные приставки Си при измерении времени:\n",
    "* 1 ms - 1 миллисекунда (мс): 1/1000 секунды\n",
    "* 1 µs - 1 микросекунда (мкс): 1/1 000 000 секунды\n",
    "* 1 ns - 1 наносекунда (нс): 1/1 000 000 000 секунды"
   ]
  },
  {
   "cell_type": "code",
   "execution_count": 5,
   "metadata": {},
   "outputs": [
    {
     "name": "stdout",
     "output_type": "stream",
     "text": [
      "CPU times: total: 406 ms\n",
      "Wall time: 403 ms\n"
     ]
    }
   ],
   "source": [
    "%%time\n",
    "\n",
    "total = 0\n",
    "for i in range(1000):\n",
    "    for j in range(1000):\n",
    "        total += i * (-1) ** j"
   ]
  },
  {
   "cell_type": "markdown",
   "metadata": {},
   "source": [
    "Команда `%time` выполняет однократный запуск кода. В отличие от `%timeit` `%time` не выполняет специальных действий, предотвращающих системные вызовы, поэтому _часто выполнение того же  кода с замером `%time` происходит несколько медленнее чем с `%timeit`_."
   ]
  },
  {
   "cell_type": "markdown",
   "metadata": {},
   "source": [
    "----"
   ]
  },
  {
   "cell_type": "markdown",
   "metadata": {},
   "source": [
    "Задача: за разумное время найти дубликаты в списке фильмов, содержащемся в файле `tmdb_5000_credits.csv` (размер: 4803 строки)."
   ]
  },
  {
   "cell_type": "code",
   "execution_count": 6,
   "metadata": {},
   "outputs": [],
   "source": [
    "import csv\n",
    "\n",
    "def read_movies(src, skip_header=True, title_column_ind=1):    \n",
    "    '''\n",
    "    Parameters:\n",
    "        src (String): имя файла с фильмами\n",
    "        skip_header (bool, optional): Пропускать ли заголовок?\n",
    "        title_column_ind (int, optional): Столбец с названиями фильмов\n",
    "    Returns:\n",
    "        list: Список названий фильмов из файла (столбец title_column_ind в CSV)\n",
    "    '''\n",
    "    with open(src) as fd:\n",
    "        csv_reader = csv.reader(fd, delimiter=',')\n",
    "        movies = [row[title_column_ind] for row in csv_reader]\n",
    "        if skip_header:\n",
    "            movies = movies[1:]\n",
    "        return movies\n",
    "\n",
    "# with open('employee_birthday.txt') as csv_file:\n",
    "#     csv_reader = csv.reader(csv_file, delimiter=',')\n",
    "#     line_count = 0\n",
    "#     for row in csv_reader:\n",
    "#         if line_count == 0:\n",
    "#             print(f'Column names are {\", \".join(row)}')\n",
    "#             line_count += 1\n",
    "#         else:\n",
    "#             print(f'\\t{row[0]} works in the {row[1]} department, and was born in {row[2]}.')\n",
    "#             line_count += 1\n",
    "#     print(f'Processed {line_count} lines.')"
   ]
  },
  {
   "cell_type": "code",
   "execution_count": 7,
   "metadata": {},
   "outputs": [
    {
     "data": {
      "text/plain": [
       "(['Avatar',\n",
       "  \"Pirates of the Caribbean: At World's End\",\n",
       "  'Spectre',\n",
       "  'The Dark Knight Rises',\n",
       "  'John Carter'],\n",
       " list,\n",
       " 4803)"
      ]
     },
     "execution_count": 7,
     "metadata": {},
     "output_type": "execute_result"
    }
   ],
   "source": [
    "movies = read_movies('tmdb_5000_credits.csv')\n",
    "movies[:5], type(movies), len(movies)"
   ]
  },
  {
   "cell_type": "code",
   "execution_count": 8,
   "metadata": {},
   "outputs": [],
   "source": [
    "# 1я попытка:\n",
    "\n",
    "def is_duplicate(needle, haystack):\n",
    "    for movie in haystack:\n",
    "        if needle.lower() == movie.lower():\n",
    "            return True\n",
    "    return False\n",
    "\n",
    "def find_duplicate_movies(src='tmdb_5000_credits.csv'):\n",
    "    movies = read_movies(src)\n",
    "    duplicates = []\n",
    "    while movies:\n",
    "        movie = movies.pop()\n",
    "        if is_duplicate(movie, movies):\n",
    "            duplicates.append(movie)\n",
    "    return duplicates"
   ]
  },
  {
   "cell_type": "code",
   "execution_count": 9,
   "metadata": {},
   "outputs": [
    {
     "name": "stdout",
     "output_type": "stream",
     "text": [
      "['Batman', 'Out of the Blue', 'The Host']\n",
      "CPU times: total: 2.56 s\n",
      "Wall time: 2.6 s\n"
     ]
    }
   ],
   "source": [
    "%%time\n",
    "\n",
    "duplicates = find_duplicate_movies()\n",
    "print(duplicates)"
   ]
  },
  {
   "cell_type": "code",
   "execution_count": 10,
   "metadata": {},
   "outputs": [
    {
     "name": "stdout",
     "output_type": "stream",
     "text": [
      " "
     ]
    }
   ],
   "source": [
    "%%prun\n",
    "# ищем \"бутылочное горлышко\":\n",
    "\n",
    "duplicates = find_duplicate_movies()"
   ]
  },
  {
   "cell_type": "markdown",
   "metadata": {},
   "source": [
    "Магическая функция %prun выдает результаты в формате, принятом у модулей профайлеров profile и cProfile (см. https://docs.python.org/3/library/profile.html ).\n",
    "\n",
    "Столбцы содержат следующую информацию:\n",
    "* __ncalls__ - количество вызовов функций (если дано 2 значения, например `3/1`, то это означает, что функция вызывалась рекурсивно (первое число - общее количество вызовов, второе - количество primitive call (вызовов которые не были порождены рекурсией))\n",
    "* __tottime__ - общее количество времени, провдеенное в данной функции ( _ИСКЛЮЧАЯ время проведенное в вызовах подфункций_ )\n",
    "* __percall__ - tottime / ncalls\n",
    "* __cumtime__ - общее количество времени, провдеенное в данной функции ( _ВКЛЮЧАЯ время проведенное в вызовах подфункций_ ), это значение корректно расчитывается и для рекурсивных вызовов функций\n",
    "* __percall__ - cumtime / primitive calls \n",
    "* __filename:lineno(function)__ - расположение функции"
   ]
  },
  {
   "cell_type": "code",
   "execution_count": 11,
   "metadata": {},
   "outputs": [],
   "source": [
    "# дополнительная информация по %prun :\n",
    "%prun?"
   ]
  },
  {
   "cell_type": "code",
   "execution_count": 12,
   "metadata": {},
   "outputs": [],
   "source": [
    "# исправляем очевидное \"слабое место\" - огромное количество вызовов lower()\n",
    "\n",
    "def is_duplicate2(needle, haystack):\n",
    "    for movie in haystack:\n",
    "        if needle == movie:\n",
    "            return True\n",
    "    return False\n",
    "\n",
    "def find_duplicate_movies2(src='tmdb_5000_credits.csv'):\n",
    "    movies = [movie.lower() for movie in read_movies(src)]\n",
    "    duplicates = []\n",
    "    while movies:\n",
    "        movie = movies.pop()\n",
    "        if is_duplicate2(movie, movies):\n",
    "            duplicates.append(movie)\n",
    "    return duplicates"
   ]
  },
  {
   "cell_type": "code",
   "execution_count": 13,
   "metadata": {},
   "outputs": [
    {
     "name": "stdout",
     "output_type": "stream",
     "text": [
      "['batman', 'out of the blue', 'the host']\n",
      "CPU times: total: 875 ms\n",
      "Wall time: 864 ms\n"
     ]
    }
   ],
   "source": [
    "%%time\n",
    "\n",
    "duplicates = find_duplicate_movies2()\n",
    "print(duplicates)"
   ]
  },
  {
   "cell_type": "markdown",
   "metadata": {},
   "source": [
    "Иногда больше пользы может принести построчный отчет профилировщика. Такая функциональность не встроена в язык Python или оболочку IPython, но можно установить пакет line_profiler, обладающий такой возможностью. \n",
    "\n",
    "Установка пакета line_profiler:\n",
    "\n",
    "* с помощью pip: `$ pip install line_profiler`\n",
    "* с помощью conda (в Anaconda Prompt): `$ conda install -c anaconda line_profiler`\n",
    "\n",
    "Документация: https://github.com/pyutils/line_profiler#id2\n",
    "\n",
    "Другой аспект профилирования — количество используемой операциями памяти. Это количество можно оценить с помощью еще одного расширения оболочки IPython — memory_profiler. \n",
    "\n",
    "Установки пакета memory_profiler:\n",
    "\n",
    "* с помощью pip: `$ pip install memory_profiler`\n",
    "* с помощью conda (в Anaconda Prompt): `conda install -c anaconda memory_profiler`\n",
    "\n",
    "Документация: "
   ]
  },
  {
   "cell_type": "code",
   "execution_count": 17,
   "metadata": {},
   "outputs": [
    {
     "name": "stdout",
     "output_type": "stream",
     "text": [
      "Collecting line_profiler\n",
      "  Downloading line_profiler-4.0.2-cp39-cp39-win_amd64.whl (83 kB)\n",
      "     -------------------------------------- 83.5/83.5 kB 519.6 kB/s eta 0:00:00\n",
      "Installing collected packages: line_profiler\n",
      "Successfully installed line_profiler-4.0.2\n"
     ]
    },
    {
     "name": "stderr",
     "output_type": "stream",
     "text": [
      "WARNING: Ignoring invalid distribution -yopengl-accelerate (c:\\users\\cristin\\anaconda3\\lib\\site-packages)\n",
      "WARNING: Ignoring invalid distribution -yopengl-accelerate (c:\\users\\cristin\\anaconda3\\lib\\site-packages)\n",
      "WARNING: Ignoring invalid distribution -yopengl-accelerate (c:\\users\\cristin\\anaconda3\\lib\\site-packages)\n",
      "WARNING: Ignoring invalid distribution -yopengl-accelerate (c:\\users\\cristin\\anaconda3\\lib\\site-packages)\n",
      "WARNING: Ignoring invalid distribution -yopengl-accelerate (c:\\users\\cristin\\anaconda3\\lib\\site-packages)\n",
      "WARNING: Ignoring invalid distribution -yopengl-accelerate (c:\\users\\cristin\\anaconda3\\lib\\site-packages)\n",
      "WARNING: Ignoring invalid distribution -yopengl-accelerate (c:\\users\\cristin\\anaconda3\\lib\\site-packages)\n"
     ]
    }
   ],
   "source": [
    "!pip install line_profiler"
   ]
  },
  {
   "cell_type": "code",
   "execution_count": 18,
   "metadata": {},
   "outputs": [
    {
     "name": "stdout",
     "output_type": "stream",
     "text": [
      "Collecting memory_profiler\n",
      "  Downloading memory_profiler-0.61.0-py3-none-any.whl (31 kB)\n",
      "Requirement already satisfied: psutil in c:\\users\\cristin\\anaconda3\\lib\\site-packages (from memory_profiler) (5.8.0)\n",
      "Installing collected packages: memory_profiler\n",
      "Successfully installed memory_profiler-0.61.0\n"
     ]
    },
    {
     "name": "stderr",
     "output_type": "stream",
     "text": [
      "WARNING: Ignoring invalid distribution -yopengl-accelerate (c:\\users\\cristin\\anaconda3\\lib\\site-packages)\n",
      "WARNING: Ignoring invalid distribution -yopengl-accelerate (c:\\users\\cristin\\anaconda3\\lib\\site-packages)\n",
      "WARNING: Ignoring invalid distribution -yopengl-accelerate (c:\\users\\cristin\\anaconda3\\lib\\site-packages)\n",
      "WARNING: Ignoring invalid distribution -yopengl-accelerate (c:\\users\\cristin\\anaconda3\\lib\\site-packages)\n",
      "WARNING: Ignoring invalid distribution -yopengl-accelerate (c:\\users\\cristin\\anaconda3\\lib\\site-packages)\n",
      "WARNING: Ignoring invalid distribution -yopengl-accelerate (c:\\users\\cristin\\anaconda3\\lib\\site-packages)\n",
      "WARNING: Ignoring invalid distribution -yopengl-accelerate (c:\\users\\cristin\\anaconda3\\lib\\site-packages)\n"
     ]
    }
   ],
   "source": [
    "!pip install memory_profiler"
   ]
  },
  {
   "cell_type": "code",
   "execution_count": 19,
   "metadata": {
    "scrolled": true
   },
   "outputs": [],
   "source": [
    "# загружаем функционал line_profiler в Jupyther:\n",
    "%load_ext line_profiler"
   ]
  },
  {
   "cell_type": "code",
   "execution_count": 20,
   "metadata": {},
   "outputs": [],
   "source": [
    "%reload_ext line_profiler"
   ]
  },
  {
   "cell_type": "code",
   "execution_count": 21,
   "metadata": {},
   "outputs": [],
   "source": [
    "# загружаем функционал memory_profiler в Jupyther:\n",
    "%load_ext memory_profiler"
   ]
  },
  {
   "cell_type": "code",
   "execution_count": 22,
   "metadata": {},
   "outputs": [],
   "source": [
    "%lprun?"
   ]
  },
  {
   "cell_type": "markdown",
   "metadata": {},
   "source": [
    "Сохраняем профилируемый код в файл .py :"
   ]
  },
  {
   "cell_type": "code",
   "execution_count": 23,
   "metadata": {},
   "outputs": [
    {
     "name": "stdout",
     "output_type": "stream",
     "text": [
      "Overwriting mprun_demo.py\n"
     ]
    }
   ],
   "source": [
    "%%writefile mprun_demo.py\n",
    "# v.3\n",
    "def sum_of_lists(N):\n",
    "    total = 0\n",
    "    for i in range(5):\n",
    "        L = [j ^ (j >> i) for j in range(N)]\n",
    "        total += sum(L)\n",
    "    return total"
   ]
  },
  {
   "cell_type": "code",
   "execution_count": 24,
   "metadata": {},
   "outputs": [],
   "source": [
    "# импортируем интересующую функцию из файла:\n",
    "from mprun_demo import sum_of_lists"
   ]
  },
  {
   "cell_type": "code",
   "execution_count": 25,
   "metadata": {},
   "outputs": [
    {
     "name": "stdout",
     "output_type": "stream",
     "text": [
      "peak memory: 88.75 MiB, increment: 0.37 MiB\n"
     ]
    }
   ],
   "source": [
    "%memit sum_of_lists(5000)"
   ]
  },
  {
   "cell_type": "code",
   "execution_count": 26,
   "metadata": {
    "scrolled": true
   },
   "outputs": [],
   "source": [
    "%lprun -f sum_of_lists sum_of_lists(5000)"
   ]
  },
  {
   "cell_type": "markdown",
   "metadata": {},
   "source": [
    "Необходимо указать ей явным образом, какие функции \n",
    "мы хотели быть профилировать, например так:\n",
    "\n",
    "`In[10]: %lprun –f sum_of_lists sum_of_lists(5000)`"
   ]
  },
  {
   "cell_type": "markdown",
   "metadata": {},
   "source": [
    "Записываем интересующий код в файл и импортируем из него:"
   ]
  },
  {
   "cell_type": "code",
   "execution_count": 27,
   "metadata": {},
   "outputs": [
    {
     "name": "stdout",
     "output_type": "stream",
     "text": [
      "Overwriting fdm_v2.py\n"
     ]
    }
   ],
   "source": [
    "%%writefile fdm_v2.py\n",
    "\n",
    "#v.1\n",
    "\n",
    "import csv\n",
    "\n",
    "def read_movies(src, skip_header=True, title_column_ind=1):    \n",
    "    '''\n",
    "    Parameters:\n",
    "        src (String): имя файла с фильмами\n",
    "        skip_header (bool, optional): Пропускать ли заголовок?\n",
    "        title_column_ind (int, optional): Столбец с названиями фильмов\n",
    "    Returns:\n",
    "        list: Список названий фильмов из файла (столбец title_column_ind в CSV)\n",
    "    '''\n",
    "    with open(src) as fd:\n",
    "        csv_reader = csv.reader(fd, delimiter=',')\n",
    "        movies = [row[title_column_ind] for row in csv_reader]\n",
    "        if skip_header:\n",
    "            movies = movies[1:]\n",
    "        return movies\n",
    "\n",
    "# исправляем очевидное \"слабое место\" - огромное количество вызовов lower()\n",
    "\n",
    "def is_duplicate2(needle, haystack):\n",
    "    for movie in haystack:\n",
    "        if needle == movie:\n",
    "            return True\n",
    "    return False\n",
    "\n",
    "def find_duplicate_movies2(src='tmdb_5000_credits.csv'):\n",
    "    movies = [movie.lower() for movie in read_movies(src)]\n",
    "    duplicates = []\n",
    "    while movies:\n",
    "        movie = movies.pop()\n",
    "        if is_duplicate2(movie, movies):\n",
    "            duplicates.append(movie)\n",
    "    return duplicates"
   ]
  },
  {
   "cell_type": "code",
   "execution_count": 28,
   "metadata": {},
   "outputs": [],
   "source": [
    "from fdm_v2 import find_duplicate_movies2"
   ]
  },
  {
   "cell_type": "code",
   "execution_count": 29,
   "metadata": {},
   "outputs": [],
   "source": [
    "%lprun -f find_duplicate_movies2 find_duplicate_movies2()"
   ]
  },
  {
   "cell_type": "markdown",
   "metadata": {},
   "source": [
    "Более 80% времени выполняется проверка is_duplicate2(). Переработаем алгоритм, для оптимзиации этой проверки:"
   ]
  },
  {
   "cell_type": "code",
   "execution_count": 30,
   "metadata": {},
   "outputs": [],
   "source": [
    "# исправляем очередное \"слабое место\": неоптимальную проверку дубликатов:\n",
    "\n",
    "def find_duplicate_movies3(src='tmdb_5000_credits.csv'):\n",
    "    duplicates = []\n",
    "    unique = set()\n",
    "    for movie in read_movies(src):\n",
    "        movie = movie.lower()\n",
    "        if movie in unique:\n",
    "            duplicates.append(movie)\n",
    "        else:\n",
    "            unique.add(movie)\n",
    "    return duplicates"
   ]
  },
  {
   "cell_type": "code",
   "execution_count": 31,
   "metadata": {},
   "outputs": [
    {
     "name": "stdout",
     "output_type": "stream",
     "text": [
      "['the host', 'out of the blue', 'batman']\n",
      "CPU times: total: 578 ms\n",
      "Wall time: 597 ms\n"
     ]
    }
   ],
   "source": [
    "%%time\n",
    "\n",
    "duplicates = find_duplicate_movies3()\n",
    "print(duplicates)"
   ]
  },
  {
   "cell_type": "code",
   "execution_count": 32,
   "metadata": {
    "scrolled": true
   },
   "outputs": [
    {
     "data": {
      "text/plain": [
       "['the host', 'out of the blue', 'batman']"
      ]
     },
     "execution_count": 32,
     "metadata": {},
     "output_type": "execute_result"
    }
   ],
   "source": [
    "# результат:\n",
    "duplicates"
   ]
  },
  {
   "cell_type": "markdown",
   "metadata": {},
   "source": [
    "Если планируется профилировать код модулей и скриптов на Python вне Jupyter то для профилирования может быть удобно  использовать следующую технику:\n",
    "* Добавить перед интересующими функциями декоратор `@profile`\n",
    "* Запуститить профилирование с помощью утилиты `kernprof`, пример прфилирования скрипта `primes.py`: `kernprof -l -v primes.py` \n",
    "* Подробнее см.:  https://dwinston.github.io/python-second-language/extras/profiling.html"
   ]
  },
  {
   "cell_type": "markdown",
   "metadata": {},
   "source": [
    "На основе сProfile (лежащего в основе prun) можно сделать декоратор:"
   ]
  },
  {
   "cell_type": "code",
   "execution_count": 33,
   "metadata": {},
   "outputs": [],
   "source": [
    "import cProfile, pstats, io\n",
    "\n",
    "\n",
    "def profile(fnc):\n",
    "    \n",
    "    \"\"\"A decorator that uses cProfile to profile a function\"\"\"\n",
    "    \n",
    "    def inner(*args, **kwargs):\n",
    "        \n",
    "        pr = cProfile.Profile()\n",
    "        pr.enable()\n",
    "        retval = fnc(*args, **kwargs)\n",
    "        pr.disable()\n",
    "        s = io.StringIO()\n",
    "        sortby = 'cumulative'\n",
    "        ps = pstats.Stats(pr, stream=s).sort_stats(sortby)\n",
    "        ps.print_stats()\n",
    "        print(s.getvalue())\n",
    "        return retval\n",
    "\n",
    "    return inner"
   ]
  },
  {
   "cell_type": "code",
   "execution_count": 34,
   "metadata": {},
   "outputs": [],
   "source": [
    "@profile\n",
    "def find_duplicate_movies4(src='tmdb_5000_credits.csv'):\n",
    "    duplicates = []\n",
    "    unique = set()\n",
    "    for movie in read_movies(src):\n",
    "        movie = movie.lower()\n",
    "        if movie in unique:\n",
    "            duplicates.append(movie)\n",
    "        else:\n",
    "            unique.add(movie)\n",
    "    return duplicates"
   ]
  },
  {
   "cell_type": "code",
   "execution_count": 35,
   "metadata": {},
   "outputs": [
    {
     "name": "stdout",
     "output_type": "stream",
     "text": [
      "         19396 function calls in 0.625 seconds\n",
      "\n",
      "   Ordered by: cumulative time\n",
      "\n",
      "   ncalls  tottime  percall  cumtime  percall filename:lineno(function)\n",
      "        1    0.002    0.002    0.625    0.625 C:\\Users\\Cristin\\AppData\\Local\\Temp\\ipykernel_5972\\3142646199.py:1(find_duplicate_movies4)\n",
      "        1    0.000    0.000    0.622    0.622 C:\\Users\\Cristin\\AppData\\Local\\Temp\\ipykernel_5972\\507437900.py:3(read_movies)\n",
      "        1    0.518    0.518    0.622    0.622 C:\\Users\\Cristin\\AppData\\Local\\Temp\\ipykernel_5972\\507437900.py:14(<listcomp>)\n",
      "     4890    0.003    0.000    0.103    0.000 C:\\Users\\Cristin\\anaconda3\\lib\\encodings\\cp1251.py:22(decode)\n",
      "     4890    0.101    0.000    0.101    0.000 {built-in method _codecs.charmap_decode}\n",
      "     4803    0.001    0.000    0.001    0.000 {method 'lower' of 'str' objects}\n",
      "     4800    0.000    0.000    0.000    0.000 {method 'add' of 'set' objects}\n",
      "        1    0.000    0.000    0.000    0.000 {built-in method io.open}\n",
      "        1    0.000    0.000    0.000    0.000 {method '__exit__' of '_io._IOBase' objects}\n",
      "        1    0.000    0.000    0.000    0.000 C:\\Users\\Cristin\\anaconda3\\lib\\_bootlocale.py:11(getpreferredencoding)\n",
      "        1    0.000    0.000    0.000    0.000 {built-in method _locale._getdefaultlocale}\n",
      "        1    0.000    0.000    0.000    0.000 {built-in method _csv.reader}\n",
      "        1    0.000    0.000    0.000    0.000 C:\\Users\\Cristin\\anaconda3\\lib\\codecs.py:260(__init__)\n",
      "        3    0.000    0.000    0.000    0.000 {method 'append' of 'list' objects}\n",
      "        1    0.000    0.000    0.000    0.000 {method 'disable' of '_lsprof.Profiler' objects}\n",
      "\n",
      "\n",
      "\n"
     ]
    },
    {
     "data": {
      "text/plain": [
       "['the host', 'out of the blue', 'batman']"
      ]
     },
     "execution_count": 35,
     "metadata": {},
     "output_type": "execute_result"
    }
   ],
   "source": [
    "find_duplicate_movies4()"
   ]
  },
  {
   "cell_type": "markdown",
   "metadata": {},
   "source": [
    "----"
   ]
  },
  {
   "cell_type": "markdown",
   "metadata": {},
   "source": [
    "# Numba <a class=\"anchor\" id=\"numba\"></a>\n",
    "* [к оглавлению](#разделы)"
   ]
  },
  {
   "cell_type": "markdown",
   "metadata": {},
   "source": [
    "__Numba__ - JIT компилятор с открытым исходным кодом, который компилирует подмножество кода Python и NumPy в быстрый машинный код.\n",
    "\n",
    "* Официальная страница проекта: https://numba.pydata.org/\n",
    "*  <em class=\"df\"></em> __JIT-компиляция__ (Just-in-time compilation, компиляция «на лету»), динамическая компиляция (dynamic translation) — технология увеличения производительности программных систем, использующих байт-код, путём компиляции байт-кода в машинный код или в другой формат непосредственно во время работы программы. \n",
    "\n",
    "Преимущества и накладные расходы: \n",
    "* достигается высокая скорость выполнения по сравнению с интерпретируемым байт-кодом (сравнимая с компилируемыми языками)\n",
    "* накладные расходы: увеличение потребления памяти (для хранения результатов компиляции) и дополнительные затраты времени на компиляцию на лету."
   ]
  },
  {
   "cell_type": "markdown",
   "metadata": {},
   "source": [
    "__Ускорение функций на Python__\n",
    "\n",
    "* Numba компилирует функции Python в оптимзированный машинный код с использованием библиотеки для компиляции промышленного уровня __LLVM__ (https://ru.wikipedia.org/wiki/LLVM). Численные алгоритмы откомпелированные с помощью Numba могут достигать скорости сопоставимой с исполнением откомпилированного кода на C или FORTRAN.\n",
    "\n",
    "* Numba обеспечивает удобство работы:\n",
    "    * нет необходимости уходить от использования обычного интерпретатора Python\n",
    "    * нет необходимости выполнять отдельную компиляцию кода\n",
    "    * нет необходимости в установке компилятора C/C++\n",
    "    * Дотстаточно использовать декораторы Numba для ваших функций, Numba выполнит все необходимы шаги автоматически.\n",
    "\n",
    "__Разработан для научных вычислений__\n",
    "\n",
    "* Numba спроектирована для работы с массивами и функциями NumPy. \n",
    "* Numba генерирует специализированный код для различных типов массивов и их размещения для оптимизации производительности.\n",
    "* Специализированные декораторы могут созвать ufunc которые могут использоваться для распространения по массивам NumPy, также как это делают ufunc NumPy.\n",
    "* Numba хорошо интегрирована с работой Jupyter notebooks для обеспечения интерактивных вычислений и с распеределнными вычислительными средами, такими как Dask и Spark.\n",
    "\n",
    "__Выполняет распараллеливание ваших алгоритмов__\n",
    "\n",
    "* Numba поддерживает Simplified Threading: может __автоматически параллельно выполнять выражения для NumPy на нескольких ядрах CPU__, что делает простым написание параллельных циклов.\n",
    "* Numba __поддерживает SIMD Vectorization__: Numba может автоматически транслировать некоторые циклы в векторные инструкции для CPU, что может обеспечивать 2-4 кратный прирост производительности. Numba адаптируется к имеющимся возможностям CPU, определяя и используя поддержку таки SIMD возможностей CPU как SSE, AVX или AVX-512.\n",
    "* Numba __поддерживает ускорение вычислений на GPU__: поддерживаются драйверы NVIDIA CUDA и AMD ROCm. Numba позволяет писать параллельные GPU алгоритмы полностью из Python.\n",
    "\n",
    "__Переносимые результаты компиляции__\n",
    "* Numba обеспечивает высокую производительность приложений на Python без сложностей бинарной компиляции и создания пакетов. Исходный код остается написан на чистом Python, а Numba обеспечивает его компиляцию на лету. Numba проходит тестирование на более чем 200 различных программно-апаратных конфигурациях.\n",
    "* Numba поддерживает:\n",
    "    * разные CPU: Intel and AMD x86, POWER8/9, ARM.\n",
    "    * разные GPU: NVIDIA и AMD.\n",
    "    * разные версии Python: Python 2.7, Python 3.4-3.7\n",
    "    * разные операционные системы: Windows, macOS, Linux\n",
    "* Бинарные поставки Numba доступны для большинства систем в виде паетов conda и wheel для инсталляции с помощью pip."
   ]
  },
  {
   "cell_type": "markdown",
   "metadata": {},
   "source": [
    "Документация и учебные материалы:\n",
    "\n",
    "http://numba.pydata.org/numba-doc/latest/index.html\n"
   ]
  },
  {
   "cell_type": "markdown",
   "metadata": {},
   "source": [
    "Основные возможности Numba:\n",
    "\n",
    "* генерация кода \"на лету\" (во время импорта или во время исполнения, по выбору пользователя)\n",
    "* генерация нативного кода для CPU (по умолчанию) или для GPU\n",
    "* интеграция со стеком технологий Python для научных вычислений (на основе NumPy)"
   ]
  },
  {
   "cell_type": "code",
   "execution_count": 36,
   "metadata": {},
   "outputs": [],
   "source": [
    "import numpy as np\n",
    "import numba\n",
    "from numba import jit, njit"
   ]
  },
  {
   "cell_type": "code",
   "execution_count": 37,
   "metadata": {},
   "outputs": [],
   "source": [
    "# наивная реализация суммы квадратов элементов матрицы:\n",
    "\n",
    "def sum_sq_2d(arr):\n",
    "    m, n = arr.shape\n",
    "    result = 0.0\n",
    "    for i in range(m):\n",
    "        for j in range(n):\n",
    "            result += arr[i,j] ** 2\n",
    "    return result"
   ]
  },
  {
   "cell_type": "code",
   "execution_count": 38,
   "metadata": {},
   "outputs": [
    {
     "data": {
      "text/plain": [
       "array([[42., 42., 42., 42., 42., 42., 42., 42., 42., 42.],\n",
       "       [42., 42., 42., 42., 42., 42., 42., 42., 42., 42.],\n",
       "       [42., 42., 42., 42., 42., 42., 42., 42., 42., 42.],\n",
       "       [42., 42., 42., 42., 42., 42., 42., 42., 42., 42.],\n",
       "       [42., 42., 42., 42., 42., 42., 42., 42., 42., 42.],\n",
       "       [42., 42., 42., 42., 42., 42., 42., 42., 42., 42.],\n",
       "       [42., 42., 42., 42., 42., 42., 42., 42., 42., 42.],\n",
       "       [42., 42., 42., 42., 42., 42., 42., 42., 42., 42.],\n",
       "       [42., 42., 42., 42., 42., 42., 42., 42., 42., 42.],\n",
       "       [42., 42., 42., 42., 42., 42., 42., 42., 42., 42.]])"
      ]
     },
     "execution_count": 38,
     "metadata": {},
     "output_type": "execute_result"
    }
   ],
   "source": [
    "np.full((10, 10), 42.0)"
   ]
  },
  {
   "cell_type": "code",
   "execution_count": 39,
   "metadata": {},
   "outputs": [
    {
     "data": {
      "text/plain": [
       "(array([[42., 42., 42.],\n",
       "        [42., 42., 42.],\n",
       "        [42., 42., 42.]]),\n",
       " (1000, 1000))"
      ]
     },
     "execution_count": 39,
     "metadata": {},
     "output_type": "execute_result"
    }
   ],
   "source": [
    "arr = np.full((1000, 1000), 42.0)\n",
    "arr[:3, :3], arr.shape"
   ]
  },
  {
   "cell_type": "markdown",
   "metadata": {},
   "source": [
    "Время работы наивной реализации:"
   ]
  },
  {
   "cell_type": "code",
   "execution_count": 40,
   "metadata": {
    "scrolled": false
   },
   "outputs": [
    {
     "name": "stdout",
     "output_type": "stream",
     "text": [
      "646 ms ± 40 ms per loop (mean ± std. dev. of 7 runs, 1 loop each)\n"
     ]
    }
   ],
   "source": [
    "%%timeit\n",
    "sum_sq_2d(arr)"
   ]
  },
  {
   "cell_type": "markdown",
   "metadata": {},
   "source": [
    "Время работы реализации с использованием NumPy:"
   ]
  },
  {
   "cell_type": "code",
   "execution_count": 41,
   "metadata": {},
   "outputs": [
    {
     "name": "stdout",
     "output_type": "stream",
     "text": [
      "4.78 ms ± 227 µs per loop (mean ± std. dev. of 7 runs, 100 loops each)\n"
     ]
    }
   ],
   "source": [
    "%%timeit\n",
    "np.sum(arr ** 2)"
   ]
  },
  {
   "cell_type": "markdown",
   "metadata": {},
   "source": [
    "Как работает Numba:\n",
    "1. Читает байткод Python для декорированной функции.\n",
    "2. Собирает информацию о типах входных аргументов функций.\n",
    "3. Анализирует и оптимизирует код.\n",
    "4. Использует библиотеку для компиляции LLVM для генерации машинного кода фонкции для конкретного CPU.\n",
    "5. Данный машинный код используется каждый раз при вызове данной функции (с аргументами тогоже типа).\n",
    "\n",
    "Когда Numba даст хороший прирост производительности:\n",
    "* Если код ориентирован на численные операции, в т.ч.:\n",
    "    * активно использует NumPy\n",
    "    * имеется много циклов (большое количество итераций)"
   ]
  },
  {
   "cell_type": "markdown",
   "metadata": {},
   "source": [
    "Как получить байткод Python:"
   ]
  },
  {
   "cell_type": "code",
   "execution_count": 42,
   "metadata": {},
   "outputs": [],
   "source": [
    "import dis"
   ]
  },
  {
   "cell_type": "code",
   "execution_count": 43,
   "metadata": {},
   "outputs": [
    {
     "name": "stdout",
     "output_type": "stream",
     "text": [
      "  4           0 LOAD_FAST                0 (arr)\n",
      "              2 LOAD_ATTR                0 (shape)\n",
      "              4 UNPACK_SEQUENCE          2\n",
      "              6 STORE_FAST               1 (m)\n",
      "              8 STORE_FAST               2 (n)\n",
      "\n",
      "  5          10 LOAD_CONST               1 (0.0)\n",
      "             12 STORE_FAST               3 (result)\n",
      "\n",
      "  6          14 LOAD_GLOBAL              1 (range)\n",
      "             16 LOAD_FAST                1 (m)\n",
      "             18 CALL_FUNCTION            1\n",
      "             20 GET_ITER\n",
      "        >>   22 FOR_ITER                38 (to 62)\n",
      "             24 STORE_FAST               4 (i)\n",
      "\n",
      "  7          26 LOAD_GLOBAL              1 (range)\n",
      "             28 LOAD_FAST                2 (n)\n",
      "             30 CALL_FUNCTION            1\n",
      "             32 GET_ITER\n",
      "        >>   34 FOR_ITER                24 (to 60)\n",
      "             36 STORE_FAST               5 (j)\n",
      "\n",
      "  8          38 LOAD_FAST                3 (result)\n",
      "             40 LOAD_FAST                0 (arr)\n",
      "             42 LOAD_FAST                4 (i)\n",
      "             44 LOAD_FAST                5 (j)\n",
      "             46 BUILD_TUPLE              2\n",
      "             48 BINARY_SUBSCR\n",
      "             50 LOAD_CONST               2 (2)\n",
      "             52 BINARY_POWER\n",
      "             54 INPLACE_ADD\n",
      "             56 STORE_FAST               3 (result)\n",
      "             58 JUMP_ABSOLUTE           34\n",
      "        >>   60 JUMP_ABSOLUTE           22\n",
      "\n",
      "  9     >>   62 LOAD_FAST                3 (result)\n",
      "             64 RETURN_VALUE\n"
     ]
    }
   ],
   "source": [
    "dis.dis(sum_sq_2d)"
   ]
  },
  {
   "cell_type": "markdown",
   "metadata": {},
   "source": [
    "* Реализация __CPython__ (_не путайте с Cython !_ ) интерпретирует не непосредственно исходный код, а компилирует его в байт код и исполняет (интерпретирует) его с помощью виртуальной машины (см: https://en.wikipedia.org/wiki/CPython , https://ru.wikipedia.org/wiki/CPython ).\n",
    "* Байткод Python хранится в автоматических создаваемых при компиляци файлах с расширением `pyc` в папках `__pycache__ ` находящихся в папках рядом с файлами с расширением `py` (кодом модулей и скриптов на Python).\n",
    "* Байткод создается при комплияции \"на лету\" кода на Python исполняемого в первый раз. \n",
    "* Среда Python автоматически отслеживает актуальность байткода в файлах с расширением `pyc` и при необходимости выполняет их обновление."
   ]
  },
  {
   "cell_type": "markdown",
   "metadata": {},
   "source": [
    "Numba является хорошим выбором если ваш код численно ориентирован (выполняет много математических вычислений), много использует NumPy и/или имеет много циклов. В этом примере мы применим самый фундаментальный из JIT-декораторов Numba, @jit, чтобы попытаться ускорить некоторые функции."
   ]
  },
  {
   "cell_type": "markdown",
   "metadata": {},
   "source": [
    "Пример использования декоратора `@jit`. \n",
    "\n",
    "Декоратор `@jit` имеет два режим работы:\n",
    "* режим `nopython`\n",
    "    * Устанавливается параметром `nopython=True` или использованием декоратора `@njit`\n",
    "    * Это рекомендуемый для использования и наиболее быстрый режим.\n",
    "    * Приводит к компиляции кода функции практически не используещего интерпретатор Python.\n",
    "* режим `object`"
   ]
  },
  {
   "cell_type": "code",
   "execution_count": 44,
   "metadata": {},
   "outputs": [],
   "source": [
    "# наивная реализация суммы квадратов элементов матрицы:\n",
    "\n",
    "@njit\n",
    "def sum_sq_2d_jit__(arr):\n",
    "    m, n = arr.shape\n",
    "    result = 0.0\n",
    "    for i in range(n):\n",
    "        for j in range(n):\n",
    "            result += arr[i,j] ** 2\n",
    "    return result"
   ]
  },
  {
   "cell_type": "code",
   "execution_count": 45,
   "metadata": {},
   "outputs": [
    {
     "name": "stdout",
     "output_type": "stream",
     "text": [
      "CPU times: total: 453 ms\n",
      "Wall time: 783 ms\n"
     ]
    },
    {
     "data": {
      "text/plain": [
       "1764000000.0"
      ]
     },
     "execution_count": 45,
     "metadata": {},
     "output_type": "execute_result"
    }
   ],
   "source": [
    "%%time\n",
    "# во время первого запуска с данным типом параметров производистя компиляция функции:\n",
    "sum_sq_2d_jit__(arr)"
   ]
  },
  {
   "cell_type": "markdown",
   "metadata": {},
   "source": [
    "Время работы откомпилированной реализации:"
   ]
  },
  {
   "cell_type": "code",
   "execution_count": 46,
   "metadata": {},
   "outputs": [
    {
     "name": "stdout",
     "output_type": "stream",
     "text": [
      "1.56 ms ± 73.4 µs per loop (mean ± std. dev. of 7 runs, 1,000 loops each)\n"
     ]
    }
   ],
   "source": [
    "%%timeit\n",
    "sum_sq_2d_jit__(arr)"
   ]
  },
  {
   "cell_type": "markdown",
   "metadata": {},
   "source": [
    "Возможно просмотреть код LLVM, который был сгенирирован при компиляции:"
   ]
  },
  {
   "cell_type": "code",
   "execution_count": 47,
   "metadata": {},
   "outputs": [
    {
     "ename": "NameError",
     "evalue": "name 'sum_sq_2d_jit' is not defined",
     "output_type": "error",
     "traceback": [
      "\u001b[1;31m---------------------------------------------------------------------------\u001b[0m",
      "\u001b[1;31mNameError\u001b[0m                                 Traceback (most recent call last)",
      "Input \u001b[1;32mIn [47]\u001b[0m, in \u001b[0;36m<cell line: 1>\u001b[1;34m()\u001b[0m\n\u001b[1;32m----> 1\u001b[0m \u001b[43msum_sq_2d_jit\u001b[49m\u001b[38;5;241m.\u001b[39minspect_types()\n",
      "\u001b[1;31mNameError\u001b[0m: name 'sum_sq_2d_jit' is not defined"
     ]
    }
   ],
   "source": [
    "sum_sq_2d_jit.inspect_types()"
   ]
  },
  {
   "cell_type": "markdown",
   "metadata": {},
   "source": [
    "---"
   ]
  },
  {
   "cell_type": "markdown",
   "metadata": {},
   "source": [
    "# Векторизация в NumPy <a class=\"anchor\" id=\"векторизация\"></a>\n",
    "* [к оглавлению](#разделы)"
   ]
  },
  {
   "cell_type": "markdown",
   "metadata": {},
   "source": [
    "\n",
    "## Векторизация для скалярных функций NumPy <a class=\"anchor\" id=\"скалярные\"></a>\n",
    "* [к оглавлению](#разделы)"
   ]
  },
  {
   "cell_type": "markdown",
   "metadata": {},
   "source": [
    " __Векторизация__ позволяет записывать применение функции для перобразования множества значений (вектора) за одну операцию. \n",
    " \n",
    " Векторизация позвоялет:\n",
    " * писать более компактный и выразительный код\n",
    " * оптимизировать выполенние векторных операций по сравнению с применением циклов за счет специальных оптимизаций, в т.ч. за счет использования специальных возможностей процессоров, многие из которых поддерживают векторные операции на аппаратном уровне.\n",
    " \n",
    "В контексте высокоуровневых языков, таких как Python, теримн векторизация означает использование оптимизированного заранее откомпилированного кода, написанного на низкоуровневом языке (например C) для выполнения математических операций над множестовм значений (вектором, массивом (в т.ч. многомерным)). Это делается вместо явного итерирования по данным на исходном высокоуровневом языке (например с помощью циклов Python).\n",
    "\n",
    "* Пример решения задачи на скалярном языке (C):\n",
    " \n",
    "```C\n",
    " for (i = 0; i < n; i++)\n",
    "    for (j = 0; j < n; j++)\n",
    "        a[i][j] += b[i][j];\n",
    "```\n",
    "Пример решения задачи на языке, поддерживающим векторные операции:\n",
    "```Fortran\n",
    "a = a + b\n",
    "```\n",
    "* Аналогичные примеры можно привести при переходе от кода на Python к использованию ufunc в NumPy.\n",
    "* Современные языки, поддерживающие векторные операции:  APL, J, Fortran 90, Mata, MATLAB, Analytica, TK Solver (as lists), Octave, R, Cilk Plus, Julia, Perl Data Language (PDL), Wolfram Language, __библиотека NumPy в Python__.\n",
    "\n",
    "* Но: реализованное в NumPy _множестов ufunc не обеспечивает решения всех возможных задач преобразования массивов_."
   ]
  },
  {
   "cell_type": "markdown",
   "metadata": {},
   "source": [
    "Пример для применения векторизации:"
   ]
  },
  {
   "cell_type": "code",
   "execution_count": 48,
   "metadata": {},
   "outputs": [],
   "source": [
    "# подсчитываем количество нулей:\n",
    "def count_zeros(v):\n",
    "    result = 0\n",
    "    while v:\n",
    "        v, digit = divmod(v, 10)\n",
    "        if digit == 0:\n",
    "            result += 1\n",
    "    return result"
   ]
  },
  {
   "cell_type": "code",
   "execution_count": 3,
   "metadata": {},
   "outputs": [],
   "source": [
    "import numpy as np\n",
    "import numpy.random"
   ]
  },
  {
   "cell_type": "code",
   "execution_count": 50,
   "metadata": {},
   "outputs": [
    {
     "data": {
      "text/plain": [
       "array([8492, 1418, 7055, 2781, 6530, 8059, 4364, 7783, 2391, 1201, 6723,\n",
       "       2494, 3281, 9358, 3579, 8649, 5857, 2106, 2870, 6858, 5462, 7832,\n",
       "       4496, 5081, 5894, 7199, 1206, 9137, 9435, 5239, 6066, 4247, 3479,\n",
       "       5146, 6756, 5969, 6865,   43, 3794,  377, 6244, 7300, 1667, 2226,\n",
       "       7448, 9539, 4818, 2252, 1137, 4983, 8662,   41, 2890, 6753, 9549,\n",
       "       7031, 9134,  175, 2652, 6826, 3780, 5326, 7017, 7551, 2568, 5052,\n",
       "        103, 6753, 4800, 5160, 8216, 1062, 5525, 3699, 1769, 5081, 9692,\n",
       "         50, 9637, 5262,  939, 8926, 1383, 1279,  288, 9273,  833, 1597,\n",
       "       5944, 5609, 1013, 6582, 6444, 5745, 5740, 9002, 3537,  421, 9503,\n",
       "       9491])"
      ]
     },
     "execution_count": 50,
     "metadata": {},
     "output_type": "execute_result"
    }
   ],
   "source": [
    "numpy.random.randint(0, 10000, 100)"
   ]
  },
  {
   "cell_type": "code",
   "execution_count": 4,
   "metadata": {},
   "outputs": [],
   "source": [
    "vals = numpy.random.randint(0, 10_000, 1_000_000)"
   ]
  },
  {
   "cell_type": "code",
   "execution_count": 52,
   "metadata": {},
   "outputs": [
    {
     "name": "stdout",
     "output_type": "stream",
     "text": [
      "289002\n",
      "CPU times: total: 1.83 s\n",
      "Wall time: 1.83 s\n"
     ]
    }
   ],
   "source": [
    "%%time\n",
    "\n",
    "z_count = 0\n",
    "for v in vals:\n",
    "    z_count += count_zeros(v)\n",
    "print(z_count)"
   ]
  },
  {
   "cell_type": "code",
   "execution_count": 53,
   "metadata": {},
   "outputs": [
    {
     "data": {
      "text/plain": [
       "-846.7492265752287"
      ]
     },
     "execution_count": 53,
     "metadata": {},
     "output_type": "execute_result"
    }
   ],
   "source": [
    "np.sum(np.sin(vals))"
   ]
  },
  {
   "cell_type": "markdown",
   "metadata": {},
   "source": [
    "#### Векторизация в NumPy\n",
    "\n",
    "__numpy.vectorize__ - это класс обобщенных функций, который позволяет создавать векторизованные функции в NumPy.\n",
    "* `numpy.vectorize` позволяет определять векторизованные функции которые принимают массивы NumPy (или вложенные последовательности объектов) и возвращают массивы NumPy (единичные или кортежи).\n",
    "* Конструктор класса выглядит следующим образом: `class numpy.vectorize(pyfunc, otypes=None, doc=None, excluded=None, cache=False, signature=None)`\n",
    "* Ключевым аргументом является функция `pyfunc` - функция, которую требуется векторизовать.\n",
    "* В результате применения конструктора `numpy.vectorize` появляется вызываемый (callable) объект типа `numpy.vectorize`, по сути это есть векторизованная функция.\n",
    "* Векторизованная функция вызывает функцию `pyfunc` для элементов входных массиов аналогично функции `map` в Python, при этом применяются правила распространения (broadcasting) NumPy.\n",
    "\n",
    "Подробнее о параметрах `numpy.vectorize`:\n",
    "* `pyfunc : callable` - функция Python которую необходимо векторизовать\n",
    "* `otypes : str or list of dtypes, optional` - тип выходных значений векторизованной функции. Может быть передан как строка с описанием кодов типов (typecode characters) или как список спецификаций типов данных. ( _См примеры_ )\n",
    "* `doc : str, optional` - строка докумнетации функции, если передан None (значение по умолчанию) будет использована стрка документации функции `pyfunc`.\n",
    "* `excluded : set, optional` - определение параметров по которым функция НЕ БУДЕТ векторизована, передается множество строк или чисел определяющих аргументы по именам параметров или по их позиции.\n",
    "* `cache : bool, optional` - если True то при первом вызове кэшируется количество выходных значений, если параметр otypes не передан.\n",
    "* `signature : string, optional` - обобщенная сигнатура функции, например `(m,n),(n)->(m)` для векторизованного матрично-векторного умножения. Если праметр передан `pyfunc` будет вызван для массивов с формой заданной размером соответсвующих измерений. По умолчанию считается что `pyfunc` принимает на вход скаляры и возвращает скаляры."
   ]
  },
  {
   "cell_type": "code",
   "execution_count": 54,
   "metadata": {},
   "outputs": [],
   "source": [
    "vcount_zeros = np.vectorize(count_zeros)"
   ]
  },
  {
   "cell_type": "code",
   "execution_count": 55,
   "metadata": {},
   "outputs": [
    {
     "data": {
      "text/plain": [
       "function"
      ]
     },
     "execution_count": 55,
     "metadata": {},
     "output_type": "execute_result"
    }
   ],
   "source": [
    "type(count_zeros)"
   ]
  },
  {
   "cell_type": "code",
   "execution_count": 56,
   "metadata": {},
   "outputs": [
    {
     "data": {
      "text/plain": [
       "numpy.vectorize"
      ]
     },
     "execution_count": 56,
     "metadata": {},
     "output_type": "execute_result"
    }
   ],
   "source": [
    "type(vcount_zeros)"
   ]
  },
  {
   "cell_type": "code",
   "execution_count": 57,
   "metadata": {},
   "outputs": [
    {
     "name": "stdout",
     "output_type": "stream",
     "text": [
      "289002\n",
      "CPU times: total: 609 ms\n",
      "Wall time: 618 ms\n"
     ]
    }
   ],
   "source": [
    "%%time\n",
    "\n",
    "z_count = vcount_zeros(vals) # применение аналогично использованию ufunc \n",
    "print(np.sum(z_count))"
   ]
  },
  {
   "cell_type": "code",
   "execution_count": 58,
   "metadata": {},
   "outputs": [
    {
     "data": {
      "text/plain": [
       "numpy.ndarray"
      ]
     },
     "execution_count": 58,
     "metadata": {},
     "output_type": "execute_result"
    }
   ],
   "source": [
    "type(z_count)"
   ]
  },
  {
   "cell_type": "code",
   "execution_count": 59,
   "metadata": {},
   "outputs": [
    {
     "data": {
      "text/plain": [
       "(array([0, 0, 0]), numpy.int32)"
      ]
     },
     "execution_count": 59,
     "metadata": {},
     "output_type": "execute_result"
    }
   ],
   "source": [
    "# Тип возвращаемых значений определен автоматически:\n",
    "z_count[:3], type(z_count[0])"
   ]
  },
  {
   "cell_type": "code",
   "execution_count": 60,
   "metadata": {},
   "outputs": [],
   "source": [
    "vcount_zeros_f = np.vectorize(count_zeros, otypes=[float]) # явное задание возвращаемого типа"
   ]
  },
  {
   "cell_type": "code",
   "execution_count": 61,
   "metadata": {},
   "outputs": [
    {
     "data": {
      "text/plain": [
       "(array([0., 0., 0.]), numpy.float64)"
      ]
     },
     "execution_count": 61,
     "metadata": {},
     "output_type": "execute_result"
    }
   ],
   "source": [
    "z_count_f = vcount_zeros_f(vals[:100])\n",
    "z_count_f[:3], type(z_count_f[0])"
   ]
  },
  {
   "cell_type": "markdown",
   "metadata": {},
   "source": [
    "Пример использования параметра `excluded`:"
   ]
  },
  {
   "cell_type": "code",
   "execution_count": 62,
   "metadata": {},
   "outputs": [],
   "source": [
    "# Расчет значения полинома с коэффциентами p для значения x:\n",
    "def mypolyval(p, x):\n",
    "    _p = list(p)\n",
    "    res = _p.pop(0)\n",
    "    while _p:\n",
    "        res = res*x + _p.pop(0)\n",
    "    return res"
   ]
  },
  {
   "cell_type": "code",
   "execution_count": 63,
   "metadata": {},
   "outputs": [],
   "source": [
    "# При векторизации исключаем параметр p из параметров, по которым проводится векторизация:\n",
    "vpolyval = np.vectorize(mypolyval, excluded=['p'])"
   ]
  },
  {
   "cell_type": "code",
   "execution_count": 64,
   "metadata": {},
   "outputs": [
    {
     "data": {
      "text/plain": [
       "array([ 3,  6, 11, 18])"
      ]
     },
     "execution_count": 64,
     "metadata": {},
     "output_type": "execute_result"
    }
   ],
   "source": [
    "vpolyval(p=[1, 2, 3], x=[0, 1, 2, 3])"
   ]
  },
  {
   "cell_type": "code",
   "execution_count": 65,
   "metadata": {},
   "outputs": [
    {
     "data": {
      "text/plain": [
       "array([2.        , 2.00040812, 2.00163249, 2.00367309, 2.00652995,\n",
       "       2.01020304, 2.01469238, 2.01999796, 2.02611978, 2.03305785,\n",
       "       2.04081216, 2.04938272, 2.05876951, 2.06897255, 2.07999184,\n",
       "       2.09182736, 2.10447913, 2.11794715, 2.1322314 , 2.1473319 ,\n",
       "       2.16324865, 2.17998163, 2.19753086, 2.21589634, 2.23507805,\n",
       "       2.25507601, 2.27589022, 2.29752066, 2.31996735, 2.34323028,\n",
       "       2.36730946, 2.39220488, 2.41791654, 2.44444444, 2.47178859,\n",
       "       2.49994898, 2.52892562, 2.5587185 , 2.58932762, 2.62075298,\n",
       "       2.65299459, 2.68605244, 2.71992654, 2.75461688, 2.79012346,\n",
       "       2.82644628, 2.86358535, 2.90154066, 2.94031221, 2.97990001,\n",
       "       3.02030405, 3.06152433, 3.10356086, 3.14641363, 3.19008264,\n",
       "       3.2345679 , 3.2798694 , 3.32598714, 3.37292113, 3.42067136,\n",
       "       3.46923783, 3.51862055, 3.56881951, 3.61983471, 3.67166616,\n",
       "       3.72431385, 3.77777778, 3.83205795, 3.88715437, 3.94306703,\n",
       "       3.99979594, 4.05734109, 4.11570248, 4.17488011, 4.23487399,\n",
       "       4.29568411, 4.35731048, 4.41975309, 4.48301194, 4.54708703,\n",
       "       4.61197837, 4.67768595, 4.74420977, 4.81154984, 4.87970615,\n",
       "       4.94867871, 5.0184675 , 5.08907254, 5.16049383, 5.23273135,\n",
       "       5.30578512, 5.37965514, 5.45434139, 5.52984389, 5.60616264,\n",
       "       5.68329762, 5.76124885, 5.84001632, 5.91960004, 6.        ])"
      ]
     },
     "execution_count": 65,
     "metadata": {},
     "output_type": "execute_result"
    }
   ],
   "source": [
    "vpolyval(p=[1, 2, 3], x=np.linspace(-1, 1, 100))"
   ]
  },
  {
   "cell_type": "markdown",
   "metadata": {},
   "source": [
    "## Векторизация для векторных функций в NumPy <a class=\"anchor\" id=\"векторные\"></a>\n",
    "* [к оглавлению](#разделы)"
   ]
  },
  {
   "cell_type": "markdown",
   "metadata": {},
   "source": [
    "#### Обобщенная сигнатура функции \n",
    "\n",
    "\n",
    "<b class=\"b n\">Имеется потребность проводить векторизацию не только скалярных функций (принимающих в качестве аргументов один или несколько (фиксированное число!) скалярных аргументов и возвращающая одно значение), но и \"векторных\"(в нотации NumPy - работающих с массивами ndarray или анлогоичными структурами) функций.</b>\n",
    "* В результате векторизации векторные функции могут эффективно (в смысле компактности записи и эффективности вычислений) применяться для массивов бОльших разменостей.\n",
    "* Для реализации этого механизма конструктору `numpy.vectorize` необходимо передать информацию о том какая векторная структура у входных параметров и выходных значений. Это делается с помощью передачи _обобщенной сигнатуры функции_ через параметр `signature`.\n",
    "\n",
    "__Обобщенная сигнатура функции__ (generalized ufunc signature) определяет как размерности каждого из входных/выходных массивов разбиваются на размерности относящиеся к ядру (т.е. становятся параметрами единичного вызова векторизуемой функции `pyfunc`) и на размерности, использующиеся для векторизации.\n",
    "\n",
    "Основные парвила:\n",
    "* каждое измерение в сигнатуре соотносится с измерениями соответствующих передаваемых массивов (соответствие строится начиная с конца кортежа, определяющего форму (shape) предаваемого массива).\n",
    "* Измерения ядра, которым присвоены одинаковые имена, должны точно совпадать по размерам, в этом случае распространение (bradcasting) не производится.\n",
    "* При применении векторизации измерения ядра убираются из всех входов, а для остающиеся измерений выполняется бродкастинг для выполнения итераций по ним в рамках работы векторизации.\n",
    "\n",
    "Примеры обобщенных сигнатур различных функций:\n",
    "\n",
    "<table border=\"1\" class=\"docutils\">\n",
    "<colgroup>\n",
    "<col width=\"17%\">\n",
    "<col width=\"37%\">\n",
    "<col width=\"46%\">\n",
    "</colgroup>\n",
    "<thead valign=\"bottom\">\n",
    "<tr class=\"row-odd\"><th class=\"head\">Имя функции</th>\n",
    "<th class=\"head\">Сигнатуры</th>\n",
    "<th class=\"head\">Описание</th>\n",
    "</tr>\n",
    "</thead>\n",
    "<tbody valign=\"top\">\n",
    "<tr class=\"row-even\"><td>add</td>\n",
    "<td><code class=\"docutils literal notranslate\"><span class=\"pre\">(),()-&gt;()</span></code></td>\n",
    "<td>сложение, бинарная ufunc</td>\n",
    "</tr>\n",
    "<tr class=\"row-odd\"><td>sum1d</td>\n",
    "<td><code class=\"docutils literal notranslate\"><span class=\"pre\">(i)-&gt;()</span></code></td>\n",
    "<td>сумма элементов вектора (reduction)</td>\n",
    "</tr>\n",
    "<tr class=\"row-even\"><td>inner1d</td>\n",
    "<td><code class=\"docutils literal notranslate\"><span class=\"pre\">(i),(i)-&gt;()</span></code></td>\n",
    "<td>скалярное произведение двух векторов (vector-vector multiplication)</td>\n",
    "</tr>\n",
    "<tr class=\"row-odd\"><td>matmat</td>\n",
    "<td><code class=\"docutils literal notranslate\"><span class=\"pre\">(m,n),(n,p)-&gt;(m,p)</span></code></td>\n",
    "<td>матричное умножение</td>\n",
    "</tr>\n",
    "<tr class=\"row-even\"><td>vecmat</td>\n",
    "<td><code class=\"docutils literal notranslate\"><span class=\"pre\">(n),(n,p)-&gt;(p)</span></code></td>\n",
    "<td>умножения одномерного вектора (рассматривается как вектор-строка) на матрицу (vector-matrix multiplication)</td>\n",
    "</tr>\n",
    "<tr class=\"row-odd\"><td>matvec</td>\n",
    "<td><code class=\"docutils literal notranslate\"><span class=\"pre\">(m,n),(n)-&gt;(m)</span></code></td>\n",
    "<td>умножение матрицы на одномерный вектора (рассматривается как вектор-столбец) (matrix-vector multiplication)</td>\n",
    "</tr>\n",
    "<tr class=\"row-even\"><td>matmul</td>\n",
    "<td><code class=\"docutils literal notranslate\"><span class=\"pre\">(m?,n),(n,p?)-&gt;(m?,p?)</span></code></td>\n",
    "<td>функция, которая реализует все 4 варианта, рассмотренные выше</td>\n",
    "</tr>\n",
    "<tr class=\"row-odd\"><td>outer_inner</td>\n",
    "<td><code class=\"docutils literal notranslate\"><span class=\"pre\">(i,t),(j,t)-&gt;(i,j)</span></code></td>\n",
    "<td>произведение двух матриц не по правилу \"строка на столбец\", а по правилу \"строка на строку\", при этом индекс второй строки определяет индекс столбца в котором будет помещено произведение в итоговой матрице\n",
    "</td>\n",
    "</tr>\n",
    "<tr class=\"row-even\"><td>cross1d</td>\n",
    "<td><code class=\"docutils literal notranslate\"><span class=\"pre\">(3),(3)-&gt;(3)</span></code></td>\n",
    "<td>Векторное произведение двух векторов размерности 3 ( https://ru.wikipedia.org/wiki/Векторное_произведение )</td>\n",
    "</tr>\n",
    "</tbody>\n",
    "</table>\n",
    "\n",
    "\n",
    "Документация:\n",
    "* numpy.ufunc.signature: - https://numpy.org/doc/stable/reference/generated/numpy.ufunc.signature.html\n",
    "* более подробно про обобщенную сигнатуру функции: https://numpy.org/doc/1.17/reference/c-api.generalized-ufuncs.html\n",
    "\n",
    "\n"
   ]
  },
  {
   "cell_type": "markdown",
   "metadata": {},
   "source": [
    "Для реализованных в NumPy ufunc можно просмотреть их сигнатуру:"
   ]
  },
  {
   "cell_type": "code",
   "execution_count": 66,
   "metadata": {},
   "outputs": [
    {
     "name": "stdout",
     "output_type": "stream",
     "text": [
      "None\n"
     ]
    }
   ],
   "source": [
    "print(np.add.signature)"
   ]
  },
  {
   "cell_type": "markdown",
   "metadata": {},
   "source": [
    "Отсутствие сигнатуры означет эквивалентно '(),()->()' (с поправкой на количество параметров функции)."
   ]
  },
  {
   "cell_type": "code",
   "execution_count": 67,
   "metadata": {},
   "outputs": [
    {
     "data": {
      "text/plain": [
       "'(m,m)->()'"
      ]
     },
     "execution_count": 67,
     "metadata": {},
     "output_type": "execute_result"
    }
   ],
   "source": [
    "np.linalg._umath_linalg.det.signature"
   ]
  },
  {
   "cell_type": "code",
   "execution_count": 68,
   "metadata": {},
   "outputs": [],
   "source": [
    "def my_vecmat1(a, b):\n",
    "    return np.sum(a * b)"
   ]
  },
  {
   "cell_type": "code",
   "execution_count": 69,
   "metadata": {},
   "outputs": [
    {
     "data": {
      "text/plain": [
       "6.0"
      ]
     },
     "execution_count": 69,
     "metadata": {},
     "output_type": "execute_result"
    }
   ],
   "source": [
    "my_vecmat1(np.arange(1,4),np.ones(3))"
   ]
  },
  {
   "cell_type": "code",
   "execution_count": 70,
   "metadata": {},
   "outputs": [
    {
     "data": {
      "text/plain": [
       "(array([[ 1,  2,  3,  4],\n",
       "        [ 5,  6,  7,  8],\n",
       "        [ 9, 10, 11, 12]]),\n",
       " (3, 4))"
      ]
     },
     "execution_count": 70,
     "metadata": {},
     "output_type": "execute_result"
    }
   ],
   "source": [
    "a1 = np.arange(1,13).reshape(3,4)\n",
    "a1, a1.shape"
   ]
  },
  {
   "cell_type": "code",
   "execution_count": 71,
   "metadata": {},
   "outputs": [
    {
     "data": {
      "text/plain": [
       "array([1., 1., 1., 1.])"
      ]
     },
     "execution_count": 71,
     "metadata": {},
     "output_type": "execute_result"
    }
   ],
   "source": [
    "np.ones(4)"
   ]
  },
  {
   "cell_type": "code",
   "execution_count": 72,
   "metadata": {},
   "outputs": [
    {
     "data": {
      "text/plain": [
       "78.0"
      ]
     },
     "execution_count": 72,
     "metadata": {},
     "output_type": "execute_result"
    }
   ],
   "source": [
    "# (наверное) неожиданный результат:\n",
    "my_vecmat1(a1, np.ones(4))"
   ]
  },
  {
   "cell_type": "code",
   "execution_count": 73,
   "metadata": {},
   "outputs": [],
   "source": [
    "def my_vecmat2(a, b):\n",
    "    return sum(x*y for x, y in zip(a, b))"
   ]
  },
  {
   "cell_type": "code",
   "execution_count": 74,
   "metadata": {},
   "outputs": [
    {
     "data": {
      "text/plain": [
       "6.0"
      ]
     },
     "execution_count": 74,
     "metadata": {},
     "output_type": "execute_result"
    }
   ],
   "source": [
    "my_vecmat2(np.arange(1,4),np.ones(3))"
   ]
  },
  {
   "cell_type": "code",
   "execution_count": 75,
   "metadata": {},
   "outputs": [
    {
     "data": {
      "text/plain": [
       "array([15., 18., 21., 24.])"
      ]
     },
     "execution_count": 75,
     "metadata": {},
     "output_type": "execute_result"
    }
   ],
   "source": [
    "# (наверное) неожиданный результат:\n",
    "my_vecmat2(a1, np.ones(3))"
   ]
  },
  {
   "cell_type": "code",
   "execution_count": 76,
   "metadata": {},
   "outputs": [],
   "source": [
    "# выполняем векторизацию векторной функции my_vecmat1 с описанием сигнатуры:\n",
    "vmy_vecmat1 = np.vectorize(my_vecmat1, signature='(i),(i)->()')"
   ]
  },
  {
   "cell_type": "code",
   "execution_count": 77,
   "metadata": {},
   "outputs": [
    {
     "data": {
      "text/plain": [
       "array([[ 1,  2,  3,  4],\n",
       "       [ 5,  6,  7,  8],\n",
       "       [ 9, 10, 11, 12]])"
      ]
     },
     "execution_count": 77,
     "metadata": {},
     "output_type": "execute_result"
    }
   ],
   "source": [
    "a1"
   ]
  },
  {
   "cell_type": "code",
   "execution_count": 78,
   "metadata": {},
   "outputs": [
    {
     "data": {
      "text/plain": [
       "array([1., 1., 1., 1.])"
      ]
     },
     "execution_count": 78,
     "metadata": {},
     "output_type": "execute_result"
    }
   ],
   "source": [
    "np.ones(4)"
   ]
  },
  {
   "cell_type": "code",
   "execution_count": 79,
   "metadata": {},
   "outputs": [
    {
     "data": {
      "text/plain": [
       "array([10., 26., 42.])"
      ]
     },
     "execution_count": 79,
     "metadata": {},
     "output_type": "execute_result"
    }
   ],
   "source": [
    "# применение векторизованной векторной функции:\n",
    "vmy_vecmat1(a1, np.ones(4))"
   ]
  },
  {
   "cell_type": "markdown",
   "metadata": {},
   "source": [
    "Что произошло: \n",
    "1. На входе: `(3, 4),(4)`\n",
    "2. Сигнатура ядра: `(i),(i)->()`\n",
    "3. Векторизаця: `(A, i),(i)->(A)`, где `A=3`, `i=4`\n",
    "4. Результат: `(3)`"
   ]
  },
  {
   "cell_type": "code",
   "execution_count": 80,
   "metadata": {},
   "outputs": [],
   "source": [
    "vmy_vecmat2= np.vectorize(my_vecmat2, signature='(i),(i)->()')"
   ]
  },
  {
   "cell_type": "code",
   "execution_count": 81,
   "metadata": {},
   "outputs": [
    {
     "data": {
      "text/plain": [
       "array([10., 26., 42.])"
      ]
     },
     "execution_count": 81,
     "metadata": {},
     "output_type": "execute_result"
    }
   ],
   "source": [
    "# указание правильной сигнатуры при векторизации позволило получить ожидаемый результат:\n",
    "vmy_vecmat2(a1, np.ones(4))"
   ]
  },
  {
   "cell_type": "code",
   "execution_count": 82,
   "metadata": {},
   "outputs": [
    {
     "data": {
      "text/plain": [
       "(array([[1., 1., 1., 1.],\n",
       "        [2., 2., 2., 2.],\n",
       "        [3., 3., 3., 3.]]),\n",
       " (3, 4))"
      ]
     },
     "execution_count": 82,
     "metadata": {},
     "output_type": "execute_result"
    }
   ],
   "source": [
    "b2 = np.vstack((np.ones((1,4)), np.full((1,4), 2), np.full((1,4), 3)))\n",
    "b2, b2.shape"
   ]
  },
  {
   "cell_type": "code",
   "execution_count": 83,
   "metadata": {},
   "outputs": [
    {
     "data": {
      "text/plain": [
       "array([[ 1,  2,  3,  4],\n",
       "       [ 5,  6,  7,  8],\n",
       "       [ 9, 10, 11, 12]])"
      ]
     },
     "execution_count": 83,
     "metadata": {},
     "output_type": "execute_result"
    }
   ],
   "source": [
    "a1"
   ]
  },
  {
   "cell_type": "code",
   "execution_count": 84,
   "metadata": {},
   "outputs": [
    {
     "data": {
      "text/plain": [
       "array([ 10.,  52., 126.])"
      ]
     },
     "execution_count": 84,
     "metadata": {},
     "output_type": "execute_result"
    }
   ],
   "source": [
    "vmy_vecmat1(a1, b2)"
   ]
  },
  {
   "cell_type": "markdown",
   "metadata": {},
   "source": [
    "Что произошло: \n",
    "1. На входе: `(3, 4),(3, 4)`\n",
    "2. Сигнатура ядра: `(i),(i)->()`\n",
    "3. Векторизаця: `(A, i),(A, i)->(A)`, где `A=3`, `i=4`\n",
    "4. Результат: `(3)`\n",
    "\n",
    "На самом деле это даже более простой случай, т.к. в первом случае для второго аргумента использовалось распространение (broadcasting)!"
   ]
  },
  {
   "cell_type": "markdown",
   "metadata": {},
   "source": [
    "Кроме `numpy.vectorize` имется еще функция `numpy.frompyfunc` которая позволяет проеобразовывать скалярные функции Python в ufunc NumPy и использовать их с применением правил распространения."
   ]
  },
  {
   "cell_type": "code",
   "execution_count": 85,
   "metadata": {},
   "outputs": [
    {
     "data": {
      "text/plain": [
       "array(['0o12', '0o36', '0o144'], dtype=object)"
      ]
     },
     "execution_count": 85,
     "metadata": {},
     "output_type": "execute_result"
    }
   ],
   "source": [
    "# Пример numpy.frompyfunc:\n",
    "\n",
    "oct_array = np.frompyfunc(oct, 1, 1)\n",
    "oct_array(np.array((10, 30, 100)))"
   ]
  },
  {
   "cell_type": "markdown",
   "metadata": {},
   "source": [
    "## Векторизация в Numba <a class=\"anchor\" id=\"numbavec\"></a>\n",
    "* [к оглавлению](#разделы)"
   ]
  },
  {
   "cell_type": "markdown",
   "metadata": {},
   "source": [
    "#### Применение векторизации в Numba"
   ]
  },
  {
   "cell_type": "code",
   "execution_count": 86,
   "metadata": {},
   "outputs": [
    {
     "data": {
      "text/plain": [
       "int32"
      ]
     },
     "execution_count": 86,
     "metadata": {},
     "output_type": "execute_result"
    }
   ],
   "source": [
    "# простой способ определить, какой тип Numba будет использовать для этих значений: \n",
    "numba.typeof(vals[0])"
   ]
  },
  {
   "cell_type": "code",
   "execution_count": 87,
   "metadata": {},
   "outputs": [],
   "source": [
    "# векторизация с помощью Numba (в явном виде передаем типы, компиляция происходит сразу):\n",
    "\n",
    "numba_vcount_zeros = numba.vectorize(['int32(int32)'])(count_zeros)"
   ]
  },
  {
   "cell_type": "code",
   "execution_count": 88,
   "metadata": {},
   "outputs": [
    {
     "name": "stdout",
     "output_type": "stream",
     "text": [
      "289002\n",
      "CPU times: total: 31.2 ms\n",
      "Wall time: 20.4 ms\n"
     ]
    }
   ],
   "source": [
    "%%time\n",
    "\n",
    "z_count = numba_vcount_zeros(vals)\n",
    "print(np.sum(z_count))"
   ]
  },
  {
   "cell_type": "code",
   "execution_count": 5,
   "metadata": {},
   "outputs": [
    {
     "data": {
      "text/plain": [
       "numpy.ndarray"
      ]
     },
     "execution_count": 5,
     "metadata": {},
     "output_type": "execute_result"
    }
   ],
   "source": [
    "type(vals)"
   ]
  },
  {
   "cell_type": "code",
   "execution_count": 89,
   "metadata": {},
   "outputs": [],
   "source": [
    "# альтернативный способ:\n",
    "from numba import vectorize\n",
    "\n",
    "@vectorize(['int32(int32)'])\n",
    "def numba2_vcount_zeros(v):\n",
    "    result = 0\n",
    "    while v:\n",
    "        v, digit = divmod(v, 10)\n",
    "        if digit == 0:\n",
    "            result += 1\n",
    "    return result"
   ]
  },
  {
   "cell_type": "code",
   "execution_count": 90,
   "metadata": {},
   "outputs": [
    {
     "name": "stdout",
     "output_type": "stream",
     "text": [
      "289002\n",
      "CPU times: total: 0 ns\n",
      "Wall time: 13.5 ms\n"
     ]
    }
   ],
   "source": [
    "%%time\n",
    "\n",
    "z_count = numba2_vcount_zeros(vals)\n",
    "print(np.sum(z_count))"
   ]
  },
  {
   "cell_type": "markdown",
   "metadata": {},
   "source": [
    "#### Декоратор __@guvectorize__\n",
    "\n",
    "<em class=\"qs\"></em> А что, если ускорить рассчет перенеся все выполняемые вычисления в векторизованную функцию?\n",
    "\n",
    "* декоратор `vectorize()` в Numba позволяет реализовывать скалярные ufuncs, которые обрабатывают один элемент за раз.\n",
    "* декоратор `guvectorize()` идет на шаг вперед и позволяет векторизовать векторные ufunc которые обрабатывают массиывы определенных размеров и возвращают массивы определенных размеров. Типовой пример, это расчет медианы или фильтры свертки (convolution filter).\n",
    "\n",
    "* в отличие от функций, полученных с помощью `vectorize()`, функции, полученные с помощью `guvectorize()`, не возвращают своих значенйи, вместо этого они получают массив для возвращаемого значения как аргумент функции и заполняют его во время работы. Это происходит из-за того что в реальности массив формируется с помощью механизмов NumPy и потом для него вызывается код сгенерированный с помощью Numba.\n"
   ]
  },
  {
   "cell_type": "markdown",
   "metadata": {},
   "source": [
    "* Обобщенные универсальные функции (generalized universal functions) требуют описания сигнатуры размерностей для которых  реализована функция ядра. В Numba эта сигнатура определяется аналогично NumPy generalized-ufunc signature. (Не надо путать с сигнатурой типов, которую обычно требует Numba). Подробнее см.: https://numpy.org/doc/1.17/reference/c-api.generalized-ufuncs.html \n",
    "\n",
    "Рассмтрим, намриер сигнатуру матичного умножения `'(m,n), (n,p) -> (m,p)'`. Из нее видно, что:\n",
    "* Ппервая с конца размерность первого аргумента и вторая с конца размерность второго аргумента должны совпадать (т.е. должно выполняться правило матричного умножения).\n",
    "* Последние две размерности результата определяются соответствующими (по именам) размерностями первого и второго аргумента.\n",
    "* Важно помнить: __соответствие__ реальных размерностей передаваемых массивов именам __сигнатуры строится начиная с конца кортежа, определяющего форму (shape) предаваемого массива__.\n",
    "\n",
    "каждое измерение в сигнатуре соотносится с измерениями соответствующих передаваемых массивов (\n"
   ]
  },
  {
   "cell_type": "markdown",
   "metadata": {},
   "source": [
    "При написании функции ядра для gufunc необходимо:\n",
    "* Продумать сигнатуру (generalized-ufunc signature) функции.\n",
    "* Рреализовывать функции соблюдая правила для размерностей вынесенные в сигнатуре\n",
    "* Функция ядра для gufunc в Numba принимает в качестве параметров как сами аргументы функции так и переменную в которую будет помещаться результат работы функции\n",
    "* Входной параметр для хранения результата является последним параметром функции.\n",
    "* У функции не должно быть возвращаемых значений, все результаты должны сохраняться в последнем входном параметре функции.\n",
    "* Последствия изменения значений других аргументов, кроме последнего, неопределены, поэтому полагаться на эти изменения нельзя."
   ]
  },
  {
   "cell_type": "code",
   "execution_count": 91,
   "metadata": {},
   "outputs": [],
   "source": [
    "# реализация ядра матричного умножения с сигнатурой '(m,n),(n,p)->(n,p)\n",
    "def matmulcore(A, B, C):\n",
    "    m, n = A.shape\n",
    "    n, p = B.shape\n",
    "    for i in range(m):\n",
    "        for j in range(p):\n",
    "            C[i, j] = 0\n",
    "            for k in range(n):\n",
    "                C[i, j] += A[i, k] * B[k, j]"
   ]
  },
  {
   "cell_type": "markdown",
   "metadata": {},
   "source": [
    "* Обратите внимание как размерности `m`, `n` и `p` извлекаются из входных аргументов. \n",
    "* Размерность `n` извлекается дважды, для того чтобы подчеркнуть необходимость совпадения значений. На практике это действие не является необходимым.\n",
    "\n",
    "Для построения generalized-ufunc из созданной функции ядра можно как явно вызывать функцию `numba.guvectorize` так и использовать декторатор `@guvectorize`. Интерфейс `numba.guvectorize` аналогичен функции `vectorize`, но дополнительно требует передачи сигнатуры."
   ]
  },
  {
   "cell_type": "code",
   "execution_count": 92,
   "metadata": {},
   "outputs": [],
   "source": [
    "from numba import guvectorize"
   ]
  },
  {
   "cell_type": "code",
   "execution_count": 93,
   "metadata": {},
   "outputs": [],
   "source": [
    "gu_matmul = numba.guvectorize(['float32[:,:], float32[:,:], float32[:,:]', 'float64[:,:], float64[:,:], float64[:,:]' ],\n",
    "                              '(m,n),(n,p)->(n,p)')(matmulcore)"
   ]
  },
  {
   "cell_type": "markdown",
   "metadata": {},
   "source": [
    "Результат: gufunc, которая может быть исолпьзована как любая gufunc в NumPy. Поддерживается распространение по правилам NumPy."
   ]
  },
  {
   "cell_type": "code",
   "execution_count": 94,
   "metadata": {},
   "outputs": [],
   "source": [
    "matrix_ct = 10000\n",
    "gu_test_A = np.arange(matrix_ct * 2 * 4, dtype=np.float32).reshape(matrix_ct, 2, 4)\n",
    "gu_test_B = np.arange(matrix_ct * 4 * 5, dtype=np.float32).reshape(matrix_ct, 4, 5)"
   ]
  },
  {
   "cell_type": "code",
   "execution_count": 95,
   "metadata": {},
   "outputs": [
    {
     "name": "stdout",
     "output_type": "stream",
     "text": [
      "899 µs ± 42.2 µs per loop (mean ± std. dev. of 7 runs, 1,000 loops each)\n"
     ]
    }
   ],
   "source": [
    "%timeit gu_matmul(gu_test_A, gu_test_B)"
   ]
  },
  {
   "cell_type": "markdown",
   "metadata": {},
   "source": [
    "Различия между функциями vectorize и guvectorize:\n",
    "1. vectorize генерирует ufuncs, guvectorize генерирует generalized-ufuncs\n",
    "2. В обоих случаях сигнатуры для типов входных аргументов и возвращаемых значений представлены в виде списка, но в функции vectorize для их определения используются сигнатуры, тогда как в guvectorize вместо этого используются списки типов, и последним специфириуется возвращаемое значение.\n",
    "3. Для guvectorize необходимо передать сигнатуру NumPy generalized-ufunc signature. Эта сигнатура дложна соответствовать переданной сигнатуре типов.\n",
    "4. Помните, что в guvectorize результат передается через последний параметр функции, тогда как в vectorize результат возвращается функцией ядра."
   ]
  },
  {
   "cell_type": "code",
   "execution_count": 96,
   "metadata": {},
   "outputs": [],
   "source": [
    "@guvectorize(['int32[:], int32'], '(n)->()')\n",
    "def numba_vcount_zeros_arr(arr, result):\n",
    "    result = 0    \n",
    "    for i in range(arr.shape[0]):\n",
    "        v = arr[i]\n",
    "        while v:\n",
    "            v, digit = divmod(v, 10)\n",
    "            if digit == 0:\n",
    "                result += 1       "
   ]
  },
  {
   "cell_type": "code",
   "execution_count": 97,
   "metadata": {},
   "outputs": [
    {
     "data": {
      "text/plain": [
       "(1000000,)"
      ]
     },
     "execution_count": 97,
     "metadata": {},
     "output_type": "execute_result"
    }
   ],
   "source": [
    "vals.shape"
   ]
  },
  {
   "cell_type": "code",
   "execution_count": 98,
   "metadata": {},
   "outputs": [
    {
     "name": "stdout",
     "output_type": "stream",
     "text": [
      "1.34 µs ± 64.3 ns per loop (mean ± std. dev. of 7 runs, 1,000,000 loops each)\n"
     ]
    }
   ],
   "source": [
    "%%timeit\n",
    "\n",
    "z_count = numba_vcount_zeros_arr(vals)\n",
    "# print(z_count)"
   ]
  },
  {
   "cell_type": "markdown",
   "metadata": {},
   "source": [
    "* базовая реализаия - 12 s\n",
    "* реализация с векторизацией - 2.6 s 5x\n",
    "* реализация с векторизацией на Numba - 31 ms 400x\n",
    "* реализация c guvectorize на Numba - 6.2 mks 1 935 483x"
   ]
  },
  {
   "cell_type": "code",
   "execution_count": 99,
   "metadata": {},
   "outputs": [
    {
     "data": {
      "text/plain": [
       "1935483.870967742"
      ]
     },
     "execution_count": 99,
     "metadata": {},
     "output_type": "execute_result"
    }
   ],
   "source": [
    "# Итоговый прирост производительности:\n",
    "12/0.0000062"
   ]
  },
  {
   "cell_type": "code",
   "execution_count": null,
   "metadata": {},
   "outputs": [],
   "source": []
  },
  {
   "cell_type": "code",
   "execution_count": null,
   "metadata": {},
   "outputs": [],
   "source": []
  }
 ],
 "metadata": {
  "kernelspec": {
   "display_name": "Python 3 (ipykernel)",
   "language": "python",
   "name": "python3"
  },
  "language_info": {
   "codemirror_mode": {
    "name": "ipython",
    "version": 3
   },
   "file_extension": ".py",
   "mimetype": "text/x-python",
   "name": "python",
   "nbconvert_exporter": "python",
   "pygments_lexer": "ipython3",
   "version": "3.11.4"
  }
 },
 "nbformat": 4,
 "nbformat_minor": 2
}
